{
 "cells": [
  {
   "cell_type": "code",
   "execution_count": 33,
   "metadata": {},
   "outputs": [
    {
     "data": {
      "application/vnd.microsoft.datawrangler.viewer.v0+json": {
       "columns": [
        {
         "name": "index",
         "rawType": "int64",
         "type": "integer"
        },
        {
         "name": "Unnamed: 0",
         "rawType": "int64",
         "type": "integer"
        },
        {
         "name": "Date",
         "rawType": "object",
         "type": "string"
        },
        {
         "name": "Ticker",
         "rawType": "object",
         "type": "string"
        },
        {
         "name": "Company",
         "rawType": "object",
         "type": "string"
        },
        {
         "name": "Close",
         "rawType": "float64",
         "type": "float"
        },
        {
         "name": "High",
         "rawType": "float64",
         "type": "float"
        },
        {
         "name": "Low",
         "rawType": "float64",
         "type": "float"
        },
        {
         "name": "Open",
         "rawType": "float64",
         "type": "float"
        },
        {
         "name": "Volume",
         "rawType": "float64",
         "type": "float"
        },
        {
         "name": "Year",
         "rawType": "int64",
         "type": "integer"
        },
        {
         "name": "Month Name",
         "rawType": "object",
         "type": "string"
        },
        {
         "name": "Month",
         "rawType": "int64",
         "type": "integer"
        }
       ],
       "conversionMethod": "pd.DataFrame",
       "ref": "f97eb013-c0c2-44dd-bf8f-50dfe860271e",
       "rows": [
        [
         "0",
         "0",
         "2015-01-02",
         "AAPL",
         "Apple",
         "24.3471736907959",
         "24.81705890517008",
         "23.90623813027048",
         "24.805923508061987",
         "212818400.0",
         "2015",
         "Jan",
         "1"
        ],
        [
         "1",
         "1",
         "2015-01-02",
         "AMZN",
         "Amazon",
         "15.425999641418455",
         "15.737500190734863",
         "15.347999572753906",
         "15.628999710083008",
         "55664000.0",
         "2015",
         "Jan",
         "1"
        ],
        [
         "2",
         "2",
         "2015-01-02",
         "GOOGL",
         "Google",
         "26.38186454772949",
         "26.693235802043404",
         "26.298664339339545",
         "26.53381197141211",
         "26480000.0",
         "2015",
         "Jan",
         "1"
        ],
        [
         "3",
         "3",
         "2015-01-02",
         "META",
         "Meta Platforms",
         "78.1514663696289",
         "78.62964314038716",
         "77.40432039056797",
         "78.28097653689777",
         "18177500.0",
         "2015",
         "Jan",
         "1"
        ],
        [
         "4",
         "4",
         "2015-01-02",
         "MSFT",
         "Microsoft",
         "40.152488708496094",
         "40.71922603467389",
         "39.96357845020635",
         "40.06662070706024",
         "27913900.0",
         "2015",
         "Jan",
         "1"
        ],
        [
         "5",
         "5",
         "2015-01-02",
         "NVDA",
         "NVIDIA",
         "0.4831436276435852",
         "0.4867438288642689",
         "0.4754632365216313",
         "0.4831436276435852",
         "113680000.0",
         "2015",
         "Jan",
         "1"
        ],
        [
         "6",
         "6",
         "2015-01-05",
         "AAPL",
         "Apple",
         "23.661273956298828",
         "24.195740719586887",
         "23.474211523610663",
         "24.115570620142528",
         "257142000.0",
         "2015",
         "Jan",
         "1"
        ],
        [
         "7",
         "7",
         "2015-01-05",
         "AMZN",
         "Amazon",
         "15.10949993133545",
         "15.418999671936035",
         "15.042499542236328",
         "15.350500106811523",
         "55484000.0",
         "2015",
         "Jan",
         "1"
        ],
        [
         "8",
         "8",
         "2015-01-05",
         "GOOGL",
         "Google",
         "25.87918472290039",
         "26.304144518013192",
         "25.79399473602273",
         "26.262296405064323",
         "41182000.0",
         "2015",
         "Jan",
         "1"
        ],
        [
         "9",
         "9",
         "2015-01-05",
         "META",
         "Meta Platforms",
         "76.8962631225586",
         "78.94842155353801",
         "76.5675170825391",
         "77.68325776365303",
         "26452200.0",
         "2015",
         "Jan",
         "1"
        ],
        [
         "10",
         "10",
         "2015-01-05",
         "MSFT",
         "Microsoft",
         "39.78324508666992",
         "40.126720293860174",
         "39.71454807983972",
         "39.81759031443144",
         "39673900.0",
         "2015",
         "Jan",
         "1"
        ],
        [
         "11",
         "11",
         "2015-01-05",
         "NVDA",
         "NVIDIA",
         "0.4749831557273865",
         "0.4845836433463086",
         "0.4728230638953944",
         "0.4831435630505641",
         "197952000.0",
         "2015",
         "Jan",
         "1"
        ],
        [
         "12",
         "12",
         "2015-01-06",
         "AAPL",
         "Apple",
         "23.663497924804688",
         "23.924049860493223",
         "23.300505111079683",
         "23.72585205994149",
         "263188400.0",
         "2015",
         "Jan",
         "1"
        ],
        [
         "13",
         "13",
         "2015-01-06",
         "AMZN",
         "Amazon",
         "14.76449966430664",
         "15.149999618530272",
         "14.619000434875488",
         "15.112000465393066",
         "70380000.0",
         "2015",
         "Jan",
         "1"
        ],
        [
         "14",
         "14",
         "2015-01-06",
         "GOOGL",
         "Google",
         "25.240501403808597",
         "25.966368522154774",
         "25.18619768037441",
         "25.930997174056603",
         "54456000.0",
         "2015",
         "Jan",
         "1"
        ],
        [
         "15",
         "15",
         "2015-01-06",
         "META",
         "Meta Platforms",
         "75.86021423339844",
         "77.29472917424276",
         "75.07321965039611",
         "76.93610613930245",
         "27399300.0",
         "2015",
         "Jan",
         "1"
        ],
        [
         "16",
         "16",
         "2015-01-06",
         "MSFT",
         "Microsoft",
         "39.1993408203125",
         "40.14390190788338",
         "39.104884056424574",
         "39.82618638215924",
         "36447900.0",
         "2015",
         "Jan",
         "1"
        ],
        [
         "17",
         "17",
         "2015-01-06",
         "NVDA",
         "NVIDIA",
         "0.460582435131073",
         "0.476183179931143",
         "0.4601024179364723",
         "0.4757031627365423",
         "197764000.0",
         "2015",
         "Jan",
         "1"
        ],
        [
         "18",
         "18",
         "2015-01-07",
         "AAPL",
         "Apple",
         "23.99531936645508",
         "24.095531157517737",
         "23.76148958861117",
         "23.87283677824669",
         "160423600.0",
         "2015",
         "Jan",
         "1"
        ],
        [
         "19",
         "19",
         "2015-01-07",
         "AMZN",
         "Amazon",
         "14.92099952697754",
         "15.064000129699709",
         "14.76650047302246",
         "14.875",
         "52806000.0",
         "2015",
         "Jan",
         "1"
        ],
        [
         "20",
         "20",
         "2015-01-07",
         "GOOGL",
         "Google",
         "25.1662712097168",
         "25.482125663309542",
         "25.091543245230124",
         "25.45522466035161",
         "46918000.0",
         "2015",
         "Jan",
         "1"
        ],
        [
         "21",
         "21",
         "2015-01-07",
         "META",
         "Meta Platforms",
         "75.86021423339844",
         "77.06560869079864",
         "75.53146821764538",
         "76.46789349875009",
         "22045300.0",
         "2015",
         "Jan",
         "1"
        ],
        [
         "22",
         "22",
         "2015-01-07",
         "MSFT",
         "Microsoft",
         "39.697364807128906",
         "39.894863743404834",
         "39.06193401661555",
         "39.48269162304818",
         "29114100.0",
         "2015",
         "Jan",
         "1"
        ],
        [
         "23",
         "23",
         "2015-01-07",
         "NVDA",
         "NVIDIA",
         "0.4593822658061981",
         "0.4680226876483051",
         "0.457942185961975",
         "0.4639424709602116",
         "321808000.0",
         "2015",
         "Jan",
         "1"
        ],
        [
         "24",
         "24",
         "2015-01-08",
         "AAPL",
         "Apple",
         "24.917266845703125",
         "24.975167843506743",
         "24.20687143499122",
         "24.324900849481665",
         "237458000.0",
         "2015",
         "Jan",
         "1"
        ],
        [
         "25",
         "25",
         "2015-01-08",
         "AMZN",
         "Amazon",
         "15.02299976348877",
         "15.156999588012695",
         "14.805500030517578",
         "15.015999794006348",
         "61768000.0",
         "2015",
         "Jan",
         "1"
        ],
        [
         "26",
         "26",
         "2015-01-08",
         "GOOGL",
         "Google",
         "25.25395393371582",
         "25.28334643817867",
         "24.661599755775494",
         "24.984928707622984",
         "73054000.0",
         "2015",
         "Jan",
         "1"
        ],
        [
         "27",
         "27",
         "2015-01-08",
         "META",
         "Meta Platforms",
         "77.88249206542969",
         "77.93230483425258",
         "75.7904849810127",
         "76.44796944737853",
         "23961000.0",
         "2015",
         "Jan",
         "1"
        ],
        [
         "28",
         "28",
         "2015-01-08",
         "MSFT",
         "Microsoft",
         "40.86520385742188",
         "41.00259461936111",
         "40.11814179410568",
         "40.14390153832736",
         "29645200.0",
         "2015",
         "Jan",
         "1"
        ],
        [
         "29",
         "29",
         "2015-01-08",
         "NVDA",
         "NVIDIA",
         "0.476663202047348",
         "0.4795433624679356",
         "0.4644226060947199",
         "0.4646626290003099",
         "283780000.0",
         "2015",
         "Jan",
         "1"
        ],
        [
         "30",
         "30",
         "2015-01-09",
         "AAPL",
         "Apple",
         "24.943994522094727",
         "25.220135039292984",
         "24.543144014046412",
         "25.09097190903041",
         "214798000.0",
         "2015",
         "Jan",
         "1"
        ],
        [
         "31",
         "31",
         "2015-01-09",
         "AMZN",
         "Amazon",
         "14.846500396728516",
         "15.143500328063965",
         "14.833999633789062",
         "15.074000358581545",
         "51848000.0",
         "2015",
         "Jan",
         "1"
        ],
        [
         "32",
         "32",
         "2015-01-09",
         "GOOGL",
         "Google",
         "24.94556999206543",
         "25.338147878892897",
         "24.84244536664587",
         "25.317223821508133",
         "42000000.0",
         "2015",
         "Jan",
         "1"
        ],
        [
         "33",
         "33",
         "2015-01-09",
         "META",
         "Meta Platforms",
         "77.44416046142578",
         "78.32081651010225",
         "76.90621450438188",
         "77.90240903216072",
         "21157000.0",
         "2015",
         "Jan",
         "1"
        ],
        [
         "34",
         "34",
         "2015-01-09",
         "MSFT",
         "Microsoft",
         "40.52172088623047",
         "41.06269838534283",
         "40.27270240944244",
         "40.88237364418997",
         "23944200.0",
         "2015",
         "Jan",
         "1"
        ],
        [
         "35",
         "35",
         "2015-01-09",
         "NVDA",
         "NVIDIA",
         "0.4785833060741424",
         "0.4821835066496536",
         "0.4718629793525605",
         "0.4783433117768573",
         "209540000.0",
         "2015",
         "Jan",
         "1"
        ],
        [
         "36",
         "36",
         "2015-01-12",
         "AAPL",
         "Apple",
         "24.329364776611328",
         "25.082071285740398",
         "24.229152969726695",
         "25.075390725151223",
         "198603200.0",
         "2015",
         "Jan",
         "1"
        ],
        [
         "37",
         "37",
         "2015-01-12",
         "AMZN",
         "Amazon",
         "14.570500373840332",
         "14.92549991607666",
         "14.46399974822998",
         "14.878000259399414",
         "68428000.0",
         "2015",
         "Jan",
         "1"
        ],
        [
         "38",
         "38",
         "2015-01-12",
         "GOOGL",
         "Google",
         "24.76323127746582",
         "24.923649043990856",
         "24.456841135285984",
         "24.87183682306002",
         "57138000.0",
         "2015",
         "Jan",
         "1"
        ],
        [
         "39",
         "39",
         "2015-01-12",
         "META",
         "Meta Platforms",
         "76.42804718017578",
         "77.70317498958815",
         "75.91998583098886",
         "77.54378021323096",
         "19190200.0",
         "2015",
         "Jan",
         "1"
        ],
        [
         "40",
         "40",
         "2015-01-12",
         "MSFT",
         "Microsoft",
         "40.01508331298828",
         "40.82225664429584",
         "39.80899887461624",
         "40.71921114945673",
         "23651900.0",
         "2015",
         "Jan",
         "1"
        ],
        [
         "41",
         "41",
         "2015-01-12",
         "NVDA",
         "NVIDIA",
         "0.4725829362869262",
         "0.4800233018140094",
         "0.4682627249683496",
         "0.479783278947348",
         "190732000.0",
         "2015",
         "Jan",
         "1"
        ],
        [
         "42",
         "42",
         "2015-01-13",
         "AAPL",
         "Apple",
         "24.54536819458008",
         "25.119919947298012",
         "24.25363917939617",
         "24.81482811759365",
         "268367600.0",
         "2015",
         "Jan",
         "1"
        ],
        [
         "43",
         "43",
         "2015-01-13",
         "AMZN",
         "Amazon",
         "14.737000465393066",
         "15.074999809265137",
         "14.661499977111816",
         "14.87399959564209",
         "82728000.0",
         "2015",
         "Jan",
         "1"
        ],
        [
         "44",
         "44",
         "2015-01-13",
         "GOOGL",
         "Google",
         "24.99937438964844",
         "25.338146452437982",
         "24.77319503439497",
         "25.03773515936092",
         "60958000.0",
         "2015",
         "Jan",
         "1"
        ],
        [
         "45",
         "45",
         "2015-01-13",
         "META",
         "Meta Platforms",
         "76.15906524658203",
         "77.78286711941152",
         "75.56135007637248",
         "76.93610332825126",
         "25179600.0",
         "2015",
         "Jan",
         "1"
        ],
        [
         "46",
         "46",
         "2015-01-13",
         "MSFT",
         "Microsoft",
         "39.80900192260742",
         "41.13997521414801",
         "39.55139471709204",
         "40.332805096692255",
         "35270600.0",
         "2015",
         "Jan",
         "1"
        ],
        [
         "47",
         "47",
         "2015-01-13",
         "NVDA",
         "NVIDIA",
         "0.4718629121780395",
         "0.4857835808456472",
         "0.4685027636014119",
         "0.4761831236420032",
         "236720000.0",
         "2015",
         "Jan",
         "1"
        ],
        [
         "48",
         "48",
         "2015-01-14",
         "AAPL",
         "Apple",
         "24.451839447021484",
         "24.60549738776521",
         "24.16233612262507",
         "24.282591271265595",
         "195826400.0",
         "2015",
         "Jan",
         "1"
        ],
        [
         "49",
         "49",
         "2015-01-14",
         "AMZN",
         "Amazon",
         "14.66349983215332",
         "14.795499801635742",
         "14.324999809265137",
         "14.596500396728516",
         "110774000.0",
         "2015",
         "Jan",
         "1"
        ]
       ],
       "shape": {
        "columns": 12,
        "rows": 15222
       }
      },
      "text/html": [
       "<div>\n",
       "<style scoped>\n",
       "    .dataframe tbody tr th:only-of-type {\n",
       "        vertical-align: middle;\n",
       "    }\n",
       "\n",
       "    .dataframe tbody tr th {\n",
       "        vertical-align: top;\n",
       "    }\n",
       "\n",
       "    .dataframe thead th {\n",
       "        text-align: right;\n",
       "    }\n",
       "</style>\n",
       "<table border=\"1\" class=\"dataframe\">\n",
       "  <thead>\n",
       "    <tr style=\"text-align: right;\">\n",
       "      <th></th>\n",
       "      <th>Unnamed: 0</th>\n",
       "      <th>Date</th>\n",
       "      <th>Ticker</th>\n",
       "      <th>Company</th>\n",
       "      <th>Close</th>\n",
       "      <th>High</th>\n",
       "      <th>Low</th>\n",
       "      <th>Open</th>\n",
       "      <th>Volume</th>\n",
       "      <th>Year</th>\n",
       "      <th>Month Name</th>\n",
       "      <th>Month</th>\n",
       "    </tr>\n",
       "  </thead>\n",
       "  <tbody>\n",
       "    <tr>\n",
       "      <th>0</th>\n",
       "      <td>0</td>\n",
       "      <td>2015-01-02</td>\n",
       "      <td>AAPL</td>\n",
       "      <td>Apple</td>\n",
       "      <td>24.347174</td>\n",
       "      <td>24.817059</td>\n",
       "      <td>23.906238</td>\n",
       "      <td>24.805924</td>\n",
       "      <td>212818400.0</td>\n",
       "      <td>2015</td>\n",
       "      <td>Jan</td>\n",
       "      <td>1</td>\n",
       "    </tr>\n",
       "    <tr>\n",
       "      <th>1</th>\n",
       "      <td>1</td>\n",
       "      <td>2015-01-02</td>\n",
       "      <td>AMZN</td>\n",
       "      <td>Amazon</td>\n",
       "      <td>15.426000</td>\n",
       "      <td>15.737500</td>\n",
       "      <td>15.348000</td>\n",
       "      <td>15.629000</td>\n",
       "      <td>55664000.0</td>\n",
       "      <td>2015</td>\n",
       "      <td>Jan</td>\n",
       "      <td>1</td>\n",
       "    </tr>\n",
       "    <tr>\n",
       "      <th>2</th>\n",
       "      <td>2</td>\n",
       "      <td>2015-01-02</td>\n",
       "      <td>GOOGL</td>\n",
       "      <td>Google</td>\n",
       "      <td>26.381865</td>\n",
       "      <td>26.693236</td>\n",
       "      <td>26.298664</td>\n",
       "      <td>26.533812</td>\n",
       "      <td>26480000.0</td>\n",
       "      <td>2015</td>\n",
       "      <td>Jan</td>\n",
       "      <td>1</td>\n",
       "    </tr>\n",
       "    <tr>\n",
       "      <th>3</th>\n",
       "      <td>3</td>\n",
       "      <td>2015-01-02</td>\n",
       "      <td>META</td>\n",
       "      <td>Meta Platforms</td>\n",
       "      <td>78.151466</td>\n",
       "      <td>78.629643</td>\n",
       "      <td>77.404320</td>\n",
       "      <td>78.280977</td>\n",
       "      <td>18177500.0</td>\n",
       "      <td>2015</td>\n",
       "      <td>Jan</td>\n",
       "      <td>1</td>\n",
       "    </tr>\n",
       "    <tr>\n",
       "      <th>4</th>\n",
       "      <td>4</td>\n",
       "      <td>2015-01-02</td>\n",
       "      <td>MSFT</td>\n",
       "      <td>Microsoft</td>\n",
       "      <td>40.152489</td>\n",
       "      <td>40.719226</td>\n",
       "      <td>39.963578</td>\n",
       "      <td>40.066621</td>\n",
       "      <td>27913900.0</td>\n",
       "      <td>2015</td>\n",
       "      <td>Jan</td>\n",
       "      <td>1</td>\n",
       "    </tr>\n",
       "    <tr>\n",
       "      <th>...</th>\n",
       "      <td>...</td>\n",
       "      <td>...</td>\n",
       "      <td>...</td>\n",
       "      <td>...</td>\n",
       "      <td>...</td>\n",
       "      <td>...</td>\n",
       "      <td>...</td>\n",
       "      <td>...</td>\n",
       "      <td>...</td>\n",
       "      <td>...</td>\n",
       "      <td>...</td>\n",
       "      <td>...</td>\n",
       "    </tr>\n",
       "    <tr>\n",
       "      <th>15217</th>\n",
       "      <td>15217</td>\n",
       "      <td>2025-02-03</td>\n",
       "      <td>AMZN</td>\n",
       "      <td>Amazon</td>\n",
       "      <td>237.419998</td>\n",
       "      <td>239.250000</td>\n",
       "      <td>232.899994</td>\n",
       "      <td>234.059998</td>\n",
       "      <td>37186200.0</td>\n",
       "      <td>2025</td>\n",
       "      <td>Feb</td>\n",
       "      <td>2</td>\n",
       "    </tr>\n",
       "    <tr>\n",
       "      <th>15218</th>\n",
       "      <td>15218</td>\n",
       "      <td>2025-02-03</td>\n",
       "      <td>GOOGL</td>\n",
       "      <td>Google</td>\n",
       "      <td>201.229996</td>\n",
       "      <td>203.750000</td>\n",
       "      <td>200.100006</td>\n",
       "      <td>200.690002</td>\n",
       "      <td>27735600.0</td>\n",
       "      <td>2025</td>\n",
       "      <td>Feb</td>\n",
       "      <td>2</td>\n",
       "    </tr>\n",
       "    <tr>\n",
       "      <th>15219</th>\n",
       "      <td>15219</td>\n",
       "      <td>2025-02-03</td>\n",
       "      <td>META</td>\n",
       "      <td>Meta Platforms</td>\n",
       "      <td>697.460022</td>\n",
       "      <td>704.000000</td>\n",
       "      <td>675.250000</td>\n",
       "      <td>675.909973</td>\n",
       "      <td>21378500.0</td>\n",
       "      <td>2025</td>\n",
       "      <td>Feb</td>\n",
       "      <td>2</td>\n",
       "    </tr>\n",
       "    <tr>\n",
       "      <th>15220</th>\n",
       "      <td>15220</td>\n",
       "      <td>2025-02-03</td>\n",
       "      <td>MSFT</td>\n",
       "      <td>Microsoft</td>\n",
       "      <td>410.920013</td>\n",
       "      <td>415.410004</td>\n",
       "      <td>408.660004</td>\n",
       "      <td>411.600006</td>\n",
       "      <td>25580600.0</td>\n",
       "      <td>2025</td>\n",
       "      <td>Feb</td>\n",
       "      <td>2</td>\n",
       "    </tr>\n",
       "    <tr>\n",
       "      <th>15221</th>\n",
       "      <td>15221</td>\n",
       "      <td>2025-02-03</td>\n",
       "      <td>NVDA</td>\n",
       "      <td>NVIDIA</td>\n",
       "      <td>116.660004</td>\n",
       "      <td>118.570000</td>\n",
       "      <td>113.010002</td>\n",
       "      <td>114.750000</td>\n",
       "      <td>369021900.0</td>\n",
       "      <td>2025</td>\n",
       "      <td>Feb</td>\n",
       "      <td>2</td>\n",
       "    </tr>\n",
       "  </tbody>\n",
       "</table>\n",
       "<p>15222 rows × 12 columns</p>\n",
       "</div>"
      ],
      "text/plain": [
       "       Unnamed: 0        Date Ticker         Company       Close        High  \\\n",
       "0               0  2015-01-02   AAPL           Apple   24.347174   24.817059   \n",
       "1               1  2015-01-02   AMZN          Amazon   15.426000   15.737500   \n",
       "2               2  2015-01-02  GOOGL          Google   26.381865   26.693236   \n",
       "3               3  2015-01-02   META  Meta Platforms   78.151466   78.629643   \n",
       "4               4  2015-01-02   MSFT       Microsoft   40.152489   40.719226   \n",
       "...           ...         ...    ...             ...         ...         ...   \n",
       "15217       15217  2025-02-03   AMZN          Amazon  237.419998  239.250000   \n",
       "15218       15218  2025-02-03  GOOGL          Google  201.229996  203.750000   \n",
       "15219       15219  2025-02-03   META  Meta Platforms  697.460022  704.000000   \n",
       "15220       15220  2025-02-03   MSFT       Microsoft  410.920013  415.410004   \n",
       "15221       15221  2025-02-03   NVDA          NVIDIA  116.660004  118.570000   \n",
       "\n",
       "              Low        Open       Volume  Year Month Name  Month  \n",
       "0       23.906238   24.805924  212818400.0  2015        Jan      1  \n",
       "1       15.348000   15.629000   55664000.0  2015        Jan      1  \n",
       "2       26.298664   26.533812   26480000.0  2015        Jan      1  \n",
       "3       77.404320   78.280977   18177500.0  2015        Jan      1  \n",
       "4       39.963578   40.066621   27913900.0  2015        Jan      1  \n",
       "...           ...         ...          ...   ...        ...    ...  \n",
       "15217  232.899994  234.059998   37186200.0  2025        Feb      2  \n",
       "15218  200.100006  200.690002   27735600.0  2025        Feb      2  \n",
       "15219  675.250000  675.909973   21378500.0  2025        Feb      2  \n",
       "15220  408.660004  411.600006   25580600.0  2025        Feb      2  \n",
       "15221  113.010002  114.750000  369021900.0  2025        Feb      2  \n",
       "\n",
       "[15222 rows x 12 columns]"
      ]
     },
     "execution_count": 33,
     "metadata": {},
     "output_type": "execute_result"
    }
   ],
   "source": [
    "import pandas as pd\n",
    "import matplotlib.pyplot as plt\n",
    "import seaborn as sns\n",
    "import numpy as np\n",
    "from matplotlib.ticker import  FuncFormatter\n",
    "import yfinance as yf #importing Yahoo Finance Liberary\n",
    "from datetime import date, timedelta\n",
    "\n",
    "import warnings\n",
    "warnings.filterwarnings(\"ignore\")\n",
    "\n",
    "df = pd.read_csv(r\"C:\\Users\\Mohamed Fawzi\\Desktop\\Stock Market Analysis\\stock_analysis.csv\")\n",
    "df"
   ]
  },
  {
   "cell_type": "code",
   "execution_count": 34,
   "metadata": {},
   "outputs": [],
   "source": [
    "df.drop(columns=['Unnamed: 0'], inplace=True)"
   ]
  },
  {
   "cell_type": "code",
   "execution_count": 35,
   "metadata": {},
   "outputs": [
    {
     "name": "stdout",
     "output_type": "stream",
     "text": [
      "<class 'pandas.core.frame.DataFrame'>\n",
      "RangeIndex: 15222 entries, 0 to 15221\n",
      "Data columns (total 11 columns):\n",
      " #   Column      Non-Null Count  Dtype         \n",
      "---  ------      --------------  -----         \n",
      " 0   Date        15222 non-null  datetime64[ns]\n",
      " 1   Ticker      15222 non-null  object        \n",
      " 2   Company     15222 non-null  object        \n",
      " 3   Close       15222 non-null  float64       \n",
      " 4   High        15222 non-null  float64       \n",
      " 5   Low         15222 non-null  float64       \n",
      " 6   Open        15222 non-null  float64       \n",
      " 7   Volume      15222 non-null  float64       \n",
      " 8   Year        15222 non-null  int64         \n",
      " 9   Month Name  15222 non-null  object        \n",
      " 10  Month       15222 non-null  int64         \n",
      "dtypes: datetime64[ns](1), float64(5), int64(2), object(3)\n",
      "memory usage: 1.3+ MB\n"
     ]
    }
   ],
   "source": [
    "\n",
    "df['Date'] = pd.to_datetime(df['Date'])\n",
    "df.info()"
   ]
  },
  {
   "cell_type": "markdown",
   "metadata": {},
   "source": [
    "#  Descriptive Statistics"
   ]
  },
  {
   "cell_type": "code",
   "execution_count": 43,
   "metadata": {},
   "outputs": [
    {
     "data": {
      "application/vnd.microsoft.datawrangler.viewer.v0+json": {
       "columns": [
        {
         "name": "index",
         "rawType": "int64",
         "type": "integer"
        },
        {
         "name": "Company",
         "rawType": "object",
         "type": "string"
        },
        {
         "name": "Avg_Close",
         "rawType": "float64",
         "type": "float"
        },
        {
         "name": "Avg_Volume",
         "rawType": "float64",
         "type": "float"
        },
        {
         "name": "Start_Price",
         "rawType": "float64",
         "type": "float"
        },
        {
         "name": "End_Price",
         "rawType": "float64",
         "type": "float"
        }
       ],
       "conversionMethod": "pd.DataFrame",
       "ref": "2bf62308-a42c-4100-b87d-17ecb8694a9e",
       "rows": [
        [
         "0",
         "Amazon",
         "102.28624041680985",
         "75786806.85849428",
         "15.425999641418455",
         "237.4199981689453"
        ],
        [
         "1",
         "Apple",
         "95.44220519601524",
         "116619386.63776113",
         "24.3471736907959",
         "228.00999450683597"
        ],
        [
         "2",
         "Google",
         "83.37267576449962",
         "35091524.99014584",
         "26.38186454772949",
         "201.22999572753903"
        ],
        [
         "3",
         "Meta Platforms",
         "224.91999400991787",
         "22824442.096964918",
         "78.1514663696289",
         "697.4600219726562"
        ],
        [
         "4",
         "Microsoft",
         "184.0400833683217",
         "28832708.119826566",
         "40.152488708496094",
         "410.9200134277344"
        ],
        [
         "5",
         "NVIDIA",
         "21.734073852724478",
         "466268049.15254235",
         "0.4831436276435852",
         "116.66000366210938"
        ]
       ],
       "shape": {
        "columns": 5,
        "rows": 6
       }
      },
      "text/html": [
       "<div>\n",
       "<style scoped>\n",
       "    .dataframe tbody tr th:only-of-type {\n",
       "        vertical-align: middle;\n",
       "    }\n",
       "\n",
       "    .dataframe tbody tr th {\n",
       "        vertical-align: top;\n",
       "    }\n",
       "\n",
       "    .dataframe thead th {\n",
       "        text-align: right;\n",
       "    }\n",
       "</style>\n",
       "<table border=\"1\" class=\"dataframe\">\n",
       "  <thead>\n",
       "    <tr style=\"text-align: right;\">\n",
       "      <th></th>\n",
       "      <th>Company</th>\n",
       "      <th>Avg_Close</th>\n",
       "      <th>Avg_Volume</th>\n",
       "      <th>Start_Price</th>\n",
       "      <th>End_Price</th>\n",
       "    </tr>\n",
       "  </thead>\n",
       "  <tbody>\n",
       "    <tr>\n",
       "      <th>0</th>\n",
       "      <td>Amazon</td>\n",
       "      <td>102.286240</td>\n",
       "      <td>7.578681e+07</td>\n",
       "      <td>15.426000</td>\n",
       "      <td>237.419998</td>\n",
       "    </tr>\n",
       "    <tr>\n",
       "      <th>1</th>\n",
       "      <td>Apple</td>\n",
       "      <td>95.442205</td>\n",
       "      <td>1.166194e+08</td>\n",
       "      <td>24.347174</td>\n",
       "      <td>228.009995</td>\n",
       "    </tr>\n",
       "    <tr>\n",
       "      <th>2</th>\n",
       "      <td>Google</td>\n",
       "      <td>83.372676</td>\n",
       "      <td>3.509152e+07</td>\n",
       "      <td>26.381865</td>\n",
       "      <td>201.229996</td>\n",
       "    </tr>\n",
       "    <tr>\n",
       "      <th>3</th>\n",
       "      <td>Meta Platforms</td>\n",
       "      <td>224.919994</td>\n",
       "      <td>2.282444e+07</td>\n",
       "      <td>78.151466</td>\n",
       "      <td>697.460022</td>\n",
       "    </tr>\n",
       "    <tr>\n",
       "      <th>4</th>\n",
       "      <td>Microsoft</td>\n",
       "      <td>184.040083</td>\n",
       "      <td>2.883271e+07</td>\n",
       "      <td>40.152489</td>\n",
       "      <td>410.920013</td>\n",
       "    </tr>\n",
       "    <tr>\n",
       "      <th>5</th>\n",
       "      <td>NVIDIA</td>\n",
       "      <td>21.734074</td>\n",
       "      <td>4.662680e+08</td>\n",
       "      <td>0.483144</td>\n",
       "      <td>116.660004</td>\n",
       "    </tr>\n",
       "  </tbody>\n",
       "</table>\n",
       "</div>"
      ],
      "text/plain": [
       "          Company   Avg_Close    Avg_Volume  Start_Price   End_Price\n",
       "0          Amazon  102.286240  7.578681e+07    15.426000  237.419998\n",
       "1           Apple   95.442205  1.166194e+08    24.347174  228.009995\n",
       "2          Google   83.372676  3.509152e+07    26.381865  201.229996\n",
       "3  Meta Platforms  224.919994  2.282444e+07    78.151466  697.460022\n",
       "4       Microsoft  184.040083  2.883271e+07    40.152489  410.920013\n",
       "5          NVIDIA   21.734074  4.662680e+08     0.483144  116.660004"
      ]
     },
     "execution_count": 43,
     "metadata": {},
     "output_type": "execute_result"
    }
   ],
   "source": [
    "# Grouping by Company to compute key metrics\n",
    "# and creating a new DataFrame for descriptive statistics\n",
    "desc_stats = df.groupby('Company').agg(\n",
    "    Avg_Close=('Close', 'mean'),\n",
    "    Avg_Volume=('Volume', 'mean'),\n",
    "    Start_Price=('Close', 'first'),\n",
    "    End_Price=('Close', 'last')\n",
    ").reset_index()\n",
    "\n",
    "\n",
    "desc_stats"
   ]
  },
  {
   "cell_type": "code",
   "execution_count": 44,
   "metadata": {},
   "outputs": [],
   "source": [
    "# Calculating the percentage change for each company\n",
    "desc_stats['Cumulative_Return'] = ((desc_stats['End_Price'] - desc_stats['Start_Price']) / desc_stats['Start_Price']) * 100"
   ]
  },
  {
   "cell_type": "markdown",
   "metadata": {},
   "source": [
    "-   Cumulative return is a measure of the total percentage gain or loss an investment has experienced over a specific period. It shows how much an investment has grown (or declined) since the starting point, without considering the time factor."
   ]
  },
  {
   "cell_type": "markdown",
   "metadata": {},
   "source": [
    "## Average Closing\n",
    "-   Comparison of the average closing prices for six major technology companies:"
   ]
  },
  {
   "cell_type": "code",
   "execution_count": 40,
   "metadata": {},
   "outputs": [
    {
     "data": {
      "image/png": "[encoded data removed]",
      "text/plain": [
       "<Figure size 600x300 with 1 Axes>"
      ]
     },
     "metadata": {},
     "output_type": "display_data"
    }
   ],
   "source": [
    "\n",
    "avg_close = desc_stats.sort_values(by='Avg_Close', ascending=False).copy()\n",
    "\n",
    "plt.figure(figsize=(6, 3))\n",
    "\n",
    "sns.barplot(data=avg_close,\n",
    "            x='Avg_Close',\n",
    "            y='Company',\n",
    "            palette='crest_r',\n",
    "           )\n",
    "\n",
    "\n",
    "def curruncy_formatter(x, pos):\n",
    "    if x >= 1e6:\n",
    "        return f\"${x / 1e6:.0f}M\"\n",
    "    else:\n",
    "        return f\"${x:.0f}\"\n",
    "    \n",
    "# Format x-axis tick labels\n",
    "plt.gca().xaxis.set_major_formatter(FuncFormatter(curruncy_formatter))\n",
    "\n",
    "plt.title('Average Close Price by Company', pad=10)\n",
    "\n",
    "sns.despine()\n",
    "plt.tight_layout()\n",
    "plt.show()"
   ]
  },
  {
   "cell_type": "markdown",
   "metadata": {},
   "source": [
    "### **Key Insights**\n",
    "1. **Meta Platforms leads** with the highest average closing price, surpassing $250.\n",
    "2. **Microsoft follows closely**, with its average closing price slightly above $200.\n",
    "3. **Amazon sits in the mid-range**, around $150.\n",
    "4. **Apple is just below Amazon**, with an average closing price near $125.\n",
    "5. **Google's price is approximately $100**, placing it in the lower half of the group.\n",
    "6. **NVIDIA has the lowest average closing price**, slightly above $50.\n",
    "\n",
    "### **What This Tells Us**\n",
    "- **Market Value & Investor Confidence**: Higher average closing prices suggest strong investor confidence and market dominance.\n",
    "- **Meta & Microsoft Stand Out**: Their prices indicate that they hold a strong position in the tech industry, possibly due to successful product lines or strong revenue streams.\n",
    "- **Amazon, Apple & Google**: These three show healthy stock values but trail behind the top two, reflecting their competitive yet fluctuating market presence.\n",
    "- **NVIDIA's Position**: While its stock has the lowest closing price among these companies, NVIDIA remains a powerhouse in the semiconductor industry and could show future growth.\n"
   ]
  },
  {
   "cell_type": "markdown",
   "metadata": {},
   "source": [
    "## Average Volume"
   ]
  },
  {
   "cell_type": "code",
   "execution_count": 41,
   "metadata": {},
   "outputs": [
    {
     "data": {
      "image/png": "[encoded data removed]",
      "text/plain": [
       "<Figure size 600x300 with 1 Axes>"
      ]
     },
     "metadata": {},
     "output_type": "display_data"
    }
   ],
   "source": [
    "\n",
    "avg_volume = desc_stats.sort_values(by='Avg_Volume', ascending=False).copy()\n",
    "\n",
    "plt.figure(figsize=(6, 3))\n",
    "sns.barplot(data=avg_volume,\n",
    "            x='Avg_Volume',\n",
    "            y='Company',\n",
    "            palette='crest_r',\n",
    "           )\n",
    "def curruncy_formatter(x, pos):\n",
    "    if x >= 1e6:\n",
    "        return f\"${x / 1e6:.0f}M\"\n",
    "    else:\n",
    "        return f\"${x:.0f}\"\n",
    "    \n",
    "# Format x-axis tick labels\n",
    "plt.gca().xaxis.set_major_formatter(FuncFormatter(curruncy_formatter))\n",
    "\n",
    "  \n",
    "plt.title('Average Trading Volume by Company', pad=10)\n",
    "\n",
    "sns.despine()\n",
    "plt.tight_layout()\n",
    "plt.show() "
   ]
  },
  {
   "cell_type": "markdown",
   "metadata": {},
   "source": [
    "### **Key Insights:**\n",
    "1. **NVIDIA leads in trading volume** with the highest average, exceeding $350M.\n",
    "2. **Apple follows next**, showing strong trading activity around $300M.\n",
    "3. **Amazon has significant volume**, slightly below Apple at approximately $250M.\n",
    "4. **Google's trading volume** is positioned near $200M.\n",
    "5. **Microsoft maintains steady trading**, averaging about $150M.\n",
    "6. **Meta Platforms records the lowest trading volume**, below $100M.\n",
    "\n",
    "### **What This Tells Us**\n",
    "- **Investor Interest**: High trading volume indicates increased investor activity. NVIDIA and Apple are highly traded, possibly reflecting strong market confidence.\n",
    "- **Amazon & Google See Consistent Action**: Their trading volume suggests active participation but at a slightly lower level compared to the leaders.\n",
    "- **Microsoft & Meta Trade Less Frequently**: Lower trading volumes could indicate either less investor interest or fewer large transactions.\n",
    "\n"
   ]
  },
  {
   "cell_type": "markdown",
   "metadata": {},
   "source": [
    "##  Cumulative Return"
   ]
  },
  {
   "cell_type": "code",
   "execution_count": 42,
   "metadata": {},
   "outputs": [
    {
     "data": {
      "image/png": "[encoded data removed]",
      "text/plain": [
       "<Figure size 600x300 with 1 Axes>"
      ]
     },
     "metadata": {},
     "output_type": "display_data"
    }
   ],
   "source": [
    "\n",
    "cumulative_return = desc_stats.sort_values(by='Cumulative_Return', ascending=False).copy()\n",
    "\n",
    "plt.figure(figsize=(6, 3))\n",
    "sns.barplot(data=cumulative_return,\n",
    "            x='Cumulative_Return',\n",
    "            y='Company',\n",
    "            palette='crest_r',\n",
    "           )\n",
    "\n",
    "def perc_formatter(x, pos):\n",
    "    if x >= 1e6:\n",
    "        return f\"${x / 1e3:.0f}K\"\n",
    "    else:\n",
    "        return f\"{x:.0f}%\"\n",
    "    \n",
    "# Format x-axis tick labels\n",
    "plt.gca().xaxis.set_major_formatter(FuncFormatter(perc_formatter))\n",
    "plt.title('Average Trading Volume by Company', pad=10)\n",
    "\n",
    "sns.despine()\n",
    "plt.tight_layout()\n",
    "plt.show() "
   ]
  },
  {
   "cell_type": "markdown",
   "metadata": {},
   "source": [
    "### **Key Insights:**\n",
    "1. **NVIDIA dominates cumulative returns** with a staggering percentage exceeding 250,000%.\n",
    "2. **Amazon follows**, showing impressive growth but significantly below NVIDIA.\n",
    "3. **Microsoft maintains strong returns**, placing third in the ranking.\n",
    "4. **Apple and Meta Platforms display moderate cumulative returns**, but they still lag behind the top three.\n",
    "5. **Google has the lowest cumulative return** among the six companies.\n",
    "\n",
    "### **What This Tells Us**\n",
    "- **Explosive Growth**: NVIDIA's extreme cumulative return suggests that it has seen massive price appreciation over time, likely driven by its dominance in AI and semiconductor advancements.\n",
    "- **Amazon & Microsoft Hold Their Own**: These two companies have delivered strong returns, reflecting successful business strategies and market expansion.\n",
    "- **Apple, Meta & Google**: While these firms remain highly influential, their cumulative returns are comparatively lower, possibly due to different growth trajectories or industry competition.\n",
    "\n",
    "By looking at all three charts together—closing price, trading volume, and cumulative returns—it’s clear that NVIDIA has seen **extraordinary investor enthusiasm and price appreciation**. However, **Meta has the highest closing price but much lower cumulative returns**, suggesting it has remained relatively stable over time rather than experiencing explosive growth.\n"
   ]
  },
  {
   "cell_type": "markdown",
   "metadata": {},
   "source": [
    "## Dialy Price Range Analysis"
   ]
  },
  {
   "cell_type": "code",
   "execution_count": 47,
   "metadata": {},
   "outputs": [],
   "source": [
    "# Creating a new column for Daily Range\n",
    "df['Daily_Range'] = df['High'] - df['Low']"
   ]
  },
  {
   "cell_type": "code",
   "execution_count": 56,
   "metadata": {},
   "outputs": [
    {
     "data": {
      "application/vnd.microsoft.datawrangler.viewer.v0+json": {
       "columns": [
        {
         "name": "index",
         "rawType": "int64",
         "type": "integer"
        },
        {
         "name": "Company",
         "rawType": "object",
         "type": "string"
        },
        {
         "name": "Avg_daily_range",
         "rawType": "float64",
         "type": "float"
        },
        {
         "name": "Max_daily_range",
         "rawType": "float64",
         "type": "float"
        }
       ],
       "conversionMethod": "pd.DataFrame",
       "ref": "b6773c66-04b0-4c88-977f-890e5ada0d25",
       "rows": [
        [
         "3",
         "Meta Platforms",
         "5.68309906390488",
         "38.77001953125"
        ],
        [
         "4",
         "Microsoft",
         "3.582725177640107",
         "24.326338193895083"
        ],
        [
         "0",
         "Amazon",
         "2.4225697474165795",
         "13.794998168945312"
        ],
        [
         "1",
         "Apple",
         "1.9654970219292736",
         "17.460557522177453"
        ],
        [
         "2",
         "Google",
         "1.7432818899793618",
         "10.759994506835994"
        ],
        [
         "5",
         "NVIDIA",
         "0.8362116334076777",
         "13.347944992387056"
        ]
       ],
       "shape": {
        "columns": 3,
        "rows": 6
       }
      },
      "text/html": [
       "<div>\n",
       "<style scoped>\n",
       "    .dataframe tbody tr th:only-of-type {\n",
       "        vertical-align: middle;\n",
       "    }\n",
       "\n",
       "    .dataframe tbody tr th {\n",
       "        vertical-align: top;\n",
       "    }\n",
       "\n",
       "    .dataframe thead th {\n",
       "        text-align: right;\n",
       "    }\n",
       "</style>\n",
       "<table border=\"1\" class=\"dataframe\">\n",
       "  <thead>\n",
       "    <tr style=\"text-align: right;\">\n",
       "      <th></th>\n",
       "      <th>Company</th>\n",
       "      <th>Avg_daily_range</th>\n",
       "      <th>Max_daily_range</th>\n",
       "    </tr>\n",
       "  </thead>\n",
       "  <tbody>\n",
       "    <tr>\n",
       "      <th>3</th>\n",
       "      <td>Meta Platforms</td>\n",
       "      <td>5.683099</td>\n",
       "      <td>38.770020</td>\n",
       "    </tr>\n",
       "    <tr>\n",
       "      <th>4</th>\n",
       "      <td>Microsoft</td>\n",
       "      <td>3.582725</td>\n",
       "      <td>24.326338</td>\n",
       "    </tr>\n",
       "    <tr>\n",
       "      <th>0</th>\n",
       "      <td>Amazon</td>\n",
       "      <td>2.422570</td>\n",
       "      <td>13.794998</td>\n",
       "    </tr>\n",
       "    <tr>\n",
       "      <th>1</th>\n",
       "      <td>Apple</td>\n",
       "      <td>1.965497</td>\n",
       "      <td>17.460558</td>\n",
       "    </tr>\n",
       "    <tr>\n",
       "      <th>2</th>\n",
       "      <td>Google</td>\n",
       "      <td>1.743282</td>\n",
       "      <td>10.759995</td>\n",
       "    </tr>\n",
       "    <tr>\n",
       "      <th>5</th>\n",
       "      <td>NVIDIA</td>\n",
       "      <td>0.836212</td>\n",
       "      <td>13.347945</td>\n",
       "    </tr>\n",
       "  </tbody>\n",
       "</table>\n",
       "</div>"
      ],
      "text/plain": [
       "          Company  Avg_daily_range  Max_daily_range\n",
       "3  Meta Platforms         5.683099        38.770020\n",
       "4       Microsoft         3.582725        24.326338\n",
       "0          Amazon         2.422570        13.794998\n",
       "1           Apple         1.965497        17.460558\n",
       "2          Google         1.743282        10.759995\n",
       "5          NVIDIA         0.836212        13.347945"
      ]
     },
     "execution_count": 56,
     "metadata": {},
     "output_type": "execute_result"
    }
   ],
   "source": [
    "# Creating a new DataFrame for daily range statistics\n",
    "# Grouping by Company to compute daily range statistics\n",
    "range_stats = df.groupby('Company').agg(\n",
    "    Avg_daily_range=('Daily_Range', 'mean'),\n",
    "    Max_daily_range=('Daily_Range', 'max')\n",
    ").reset_index()\n",
    "\n",
    "range_stats.sort_values(by='Avg_daily_range', ascending=False, inplace=True)\n",
    "\n",
    "range_stats"
   ]
  },
  {
   "cell_type": "code",
   "execution_count": 59,
   "metadata": {},
   "outputs": [
    {
     "data": {
      "image/png": "[encoded data removed]",
      "text/plain": [
       "<Figure size 600x300 with 1 Axes>"
      ]
     },
     "metadata": {},
     "output_type": "display_data"
    }
   ],
   "source": [
    "plt.figure(figsize=(6, 3))\n",
    "sns.barplot(data=range_stats,\n",
    "            x='Avg_daily_range',\n",
    "            y='Company',\n",
    "            palette='crest_r',\n",
    "           )\n",
    "\n",
    "def curruncy_formatter(x, pos):\n",
    "    if x >= 1e6:\n",
    "        return f\"${x / 1e6:.0f}M\"\n",
    "    else:\n",
    "        return f\"${x:.0f}\"\n",
    "    \n",
    "# Format x-axis tick labels\n",
    "plt.gca().xaxis.set_major_formatter(FuncFormatter(curruncy_formatter))\n",
    "\n",
    "  \n",
    "plt.title('Average Daily Range by Company', pad=10)\n",
    "plt.xlabel('Average Daily Range ($)', labelpad=10)\n",
    "\n",
    "sns.despine()\n",
    "plt.tight_layout()\n",
    "plt.show() \n",
    "\n",
    "\n"
   ]
  },
  {
   "cell_type": "markdown",
   "metadata": {},
   "source": [
    "### **Key Findings**\n",
    "1. **Meta Platforms has the highest daily range**, exceeding **$5**, indicating substantial price fluctuations.\n",
    "2. **Microsoft follows closely**, with an average daily range slightly above **$4**.\n",
    "3. **Amazon displays strong movement**, around **$3.50**, suggesting notable intraday price shifts.\n",
    "4. **Apple’s range is close to $3**, reflecting steady yet significant volatility.\n",
    "5. **Google’s daily range is approximately $2.50**, placing it on the lower end.\n",
    "6. **NVIDIA records the lowest daily range**, slightly above **$1**, showing the least volatility among the six.\n",
    "\n",
    "### **What This Tells Us**\n",
    "- **High Volatility Stocks (Meta, Microsoft, Amazon)**: These stocks experience more significant daily price changes, which might appeal to traders looking for short-term opportunities.\n",
    "- **Moderate Volatility (Apple, Google)**: Their price movements are less extreme but still provide trading opportunities.\n",
    "- **Lower Volatility (NVIDIA)**: With a smaller daily range, NVIDIA's stock exhibits more stability, making it potentially less risky for short-term investors.\n"
   ]
  },
  {
   "cell_type": "markdown",
   "metadata": {},
   "source": [
    "## Volatility Analysis\n",
    "-   Volatility: The Measure of Market Movement\n",
    "Volatility refers to how much and how quickly the price of a stock, asset, or market index fluctuates. It’s a key indicator of risk and uncertainty, often used by traders and investors to gauge how stable or unpredictable an investment is.\n",
    "\n",
    "\n",
    "How It's Measured\n",
    "- Standard Deviation – Calculates the average deviation from the mean price.\n",
    "- Average True Range (ATR) – Measures the average daily price range over a set period.\n",
    "\n",
    "\n"
   ]
  },
  {
   "cell_type": "code",
   "execution_count": 62,
   "metadata": {},
   "outputs": [
    {
     "data": {
      "application/vnd.microsoft.datawrangler.viewer.v0+json": {
       "columns": [
        {
         "name": "index",
         "rawType": "int64",
         "type": "integer"
        },
        {
         "name": "Company",
         "rawType": "object",
         "type": "string"
        },
        {
         "name": "Volatility",
         "rawType": "float64",
         "type": "float"
        }
       ],
       "conversionMethod": "pd.DataFrame",
       "ref": "dacab065-4bb0-47ad-8dde-f421aa740b58",
       "rows": [
        [
         "3",
         "Meta Platforms",
         "126.67646002753882"
        ],
        [
         "4",
         "Microsoft",
         "125.34681991895786"
        ],
        [
         "1",
         "Apple",
         "66.6856461801491"
        ],
        [
         "0",
         "Amazon",
         "55.17143096132531"
        ],
        [
         "2",
         "Google",
         "44.63408391884012"
        ],
        [
         "5",
         "NVIDIA",
         "33.81451573124813"
        ]
       ],
       "shape": {
        "columns": 2,
        "rows": 6
       }
      },
      "text/html": [
       "<div>\n",
       "<style scoped>\n",
       "    .dataframe tbody tr th:only-of-type {\n",
       "        vertical-align: middle;\n",
       "    }\n",
       "\n",
       "    .dataframe tbody tr th {\n",
       "        vertical-align: top;\n",
       "    }\n",
       "\n",
       "    .dataframe thead th {\n",
       "        text-align: right;\n",
       "    }\n",
       "</style>\n",
       "<table border=\"1\" class=\"dataframe\">\n",
       "  <thead>\n",
       "    <tr style=\"text-align: right;\">\n",
       "      <th></th>\n",
       "      <th>Company</th>\n",
       "      <th>Volatility</th>\n",
       "    </tr>\n",
       "  </thead>\n",
       "  <tbody>\n",
       "    <tr>\n",
       "      <th>3</th>\n",
       "      <td>Meta Platforms</td>\n",
       "      <td>126.676460</td>\n",
       "    </tr>\n",
       "    <tr>\n",
       "      <th>4</th>\n",
       "      <td>Microsoft</td>\n",
       "      <td>125.346820</td>\n",
       "    </tr>\n",
       "    <tr>\n",
       "      <th>1</th>\n",
       "      <td>Apple</td>\n",
       "      <td>66.685646</td>\n",
       "    </tr>\n",
       "    <tr>\n",
       "      <th>0</th>\n",
       "      <td>Amazon</td>\n",
       "      <td>55.171431</td>\n",
       "    </tr>\n",
       "    <tr>\n",
       "      <th>2</th>\n",
       "      <td>Google</td>\n",
       "      <td>44.634084</td>\n",
       "    </tr>\n",
       "    <tr>\n",
       "      <th>5</th>\n",
       "      <td>NVIDIA</td>\n",
       "      <td>33.814516</td>\n",
       "    </tr>\n",
       "  </tbody>\n",
       "</table>\n",
       "</div>"
      ],
      "text/plain": [
       "          Company  Volatility\n",
       "3  Meta Platforms  126.676460\n",
       "4       Microsoft  125.346820\n",
       "1           Apple   66.685646\n",
       "0          Amazon   55.171431\n",
       "2          Google   44.634084\n",
       "5          NVIDIA   33.814516"
      ]
     },
     "execution_count": 62,
     "metadata": {},
     "output_type": "execute_result"
    }
   ],
   "source": [
    "# Volatility Analysis (Standard Deviation)\n",
    "volatility = df.groupby('Company')['Close'].std().reset_index(name='Volatility')\n",
    "\n",
    "volatility.sort_values(by='Volatility', ascending=False, inplace=True)\n",
    "volatility"
   ]
  },
  {
   "cell_type": "code",
   "execution_count": null,
   "metadata": {},
   "outputs": [
    {
     "data": {
      "image/png": "[encoded data removed]",
      "text/plain": [
       "<Figure size 600x300 with 1 Axes>"
      ]
     },
     "metadata": {},
     "output_type": "display_data"
    }
   ],
   "source": [
    "plt.figure(figsize=(6, 3))\n",
    "sns.barplot(data=volatility,\n",
    "            x='Volatility',\n",
    "            y='Company',\n",
    "            palette='crest_r',\n",
    "           )\n",
    "\n",
    "\n",
    "def curruncy_formatter(x, pos):\n",
    "    if x >= 1e6:\n",
    "        return f\"${x / 1e6:.0f}M\"\n",
    "    else:\n",
    "        return f\"${x:.0f}\"\n",
    "    \n",
    "# Format x-axis tick labels\n",
    "plt.gca().xaxis.set_major_formatter(FuncFormatter(curruncy_formatter))\n",
    "\n",
    "plt.title('Volatility by Company', pad=10)\n",
    "\n",
    "sns.despine()\n",
    "plt.tight_layout()\n",
    "plt.show()"
   ]
  },
  {
   "cell_type": "markdown",
   "metadata": {},
   "source": [
    "### **Key Observations**\n",
    "1. **Meta Platforms has the highest volatility**, exceeding **$100**, indicating significant price swings.\n",
    "2. **Microsoft follows**, with volatility slightly above **$90**.\n",
    "3. **Apple shows considerable movement**, around **$80**.\n",
    "4. **Amazon has a volatility level of approximately **$70**, reflecting steady price shifts.\n",
    "5. **Google's volatility is lower**, near **$60**.\n",
    "6. **NVIDIA records the lowest volatility**, slightly above **$50**, suggesting more stability compared to the other five.\n",
    "\n",
    "### **What This Means**\n",
    "- **Higher volatility (Meta, Microsoft, Apple)**: These stocks experience frequent large price swings, which could indicate greater investor interest and short-term trading opportunities.\n",
    "- **Moderate volatility (Amazon, Google)**: These stocks see price movements but are relatively steadier than the top three.\n",
    "- **Lower volatility (NVIDIA)**: NVIDIA's price remains more stable in comparison, which could mean less short-term risk but also fewer dramatic gains.\n",
    "\n"
   ]
  },
  {
   "cell_type": "markdown",
   "metadata": {},
   "source": [
    "## Correlation Matrix"
   ]
  },
  {
   "cell_type": "code",
   "execution_count": 91,
   "metadata": {},
   "outputs": [],
   "source": [
    "# 5. Correlation Matrix\n",
    "pivot_df = df.pivot(index='Date', columns='Company', values='Close')\n",
    "correlation_matrix = pivot_df.corr()\n"
   ]
  },
  {
   "cell_type": "code",
   "execution_count": 93,
   "metadata": {},
   "outputs": [
    {
     "data": {
      "image/png": "[encoded data removed]",
      "text/plain": [
       "<Figure size 800x600 with 2 Axes>"
      ]
     },
     "metadata": {},
     "output_type": "display_data"
    }
   ],
   "source": [
    "plt.figure(figsize=(8, 6))\n",
    "sns.heatmap(correlation_matrix, \n",
    "            annot=True, \n",
    "            fmt=\".2f\", \n",
    "            cmap='coolwarm', \n",
    "            cbar=True, \n",
    "            square=True\n",
    ")\n",
    "\n",
    "\n",
    "plt.xticks(rotation=45, ha='right')\n",
    "plt.title('Correlation Matrix of Stock Prices', pad=10)\n",
    "plt.tight_layout()\n",
    "plt.show()"
   ]
  },
  {
   "cell_type": "markdown",
   "metadata": {},
   "source": [
    "\n",
    "### **Key Findings**\n",
    "1. **Strongest Correlations**:\n",
    "   - **Microsoft & Apple (0.98)**: These two stocks move closely together, likely due to their similar market behavior in the tech industry.\n",
    "   - **Google & Microsoft (0.98)**: Shows a strong relationship between their price movements.\n",
    "   - **Apple & Google (0.97)**: These two companies have a significant positive correlation, indicating they tend to rise or fall together.\n",
    "\n",
    "2. **Moderate Correlations**:\n",
    "   - **Amazon & Google (0.91)**: Their stock movements are strongly linked but slightly less than Microsoft & Apple.\n",
    "   - **Meta Platforms & Google (0.89)**: Suggests that Meta's price movements are influenced by Google's performance.\n",
    "   - **Meta & NVIDIA (0.91)**: Indicates some alignment, likely due to AI and tech sector trends.\n",
    "\n",
    "3. **Lowest Correlation**:\n",
    "   - **Amazon & NVIDIA (0.71)**: While still positively correlated, their prices don’t move as closely together compared to the others.\n",
    "   - **Meta & Apple (0.83)**: A weaker relationship than the others, indicating Meta’s stock may move independently from Apple’s trends.\n",
    "\n",
    "### **What This Means**\n",
    "- **Highly correlated stocks move in similar directions**, making them ideal for investors who want diversified tech exposure.\n",
    "- **Lower correlations suggest independent price movements**, which might be beneficial for risk management in a portfolio.\n",
    "- **NVIDIA has the most independent movement**, likely due to its strong presence in the semiconductor industry rather than cloud computing and consumer tech.\n"
   ]
  },
  {
   "cell_type": "markdown",
   "metadata": {},
   "source": [
    "## Daily Returns Analysis"
   ]
  },
  {
   "cell_type": "code",
   "execution_count": 105,
   "metadata": {},
   "outputs": [
    {
     "data": {
      "application/vnd.microsoft.datawrangler.viewer.v0+json": {
       "columns": [
        {
         "name": "index",
         "rawType": "int64",
         "type": "integer"
        },
        {
         "name": "Date",
         "rawType": "datetime64[ns]",
         "type": "datetime"
        },
        {
         "name": "Amazon",
         "rawType": "float64",
         "type": "float"
        },
        {
         "name": "Apple",
         "rawType": "float64",
         "type": "float"
        },
        {
         "name": "Google",
         "rawType": "float64",
         "type": "float"
        },
        {
         "name": "Meta Platforms",
         "rawType": "float64",
         "type": "float"
        },
        {
         "name": "Microsoft",
         "rawType": "float64",
         "type": "float"
        },
        {
         "name": "NVIDIA",
         "rawType": "float64",
         "type": "float"
        }
       ],
       "conversionMethod": "pd.DataFrame",
       "ref": "9fee600c-5cc3-4587-b456-5f75690cb9be",
       "rows": [
        [
         "0",
         "2015-01-02 00:00:00",
         null,
         null,
         null,
         null,
         null,
         null
        ],
        [
         "1",
         "2015-01-05 00:00:00",
         "-0.020517290123176934",
         "-0.02817163680712409",
         "-0.019053991575146645",
         "-0.016061160530675744",
         "-0.009196033264758596",
         "-0.016890364374667288"
        ],
        [
         "2",
         "2015-01-06 00:00:00",
         "-0.022833334564125174",
         "9.399191733994172e-05",
         "-0.024679421934286294",
         "-0.013473332085187084",
         "-0.014677140215318185",
         "-0.030318381657682747"
        ],
        [
         "3",
         "2015-01-07 00:00:00",
         "0.010599740338593344",
         "0.014022501774877849",
         "-0.002940915986740067",
         "0.0",
         "0.012704907184519332",
         "-0.0026057644263688395"
        ],
        [
         "4",
         "2015-01-08 00:00:00",
         "0.0068360190164746815",
         "0.03842197160071592",
         "0.003484136496358037",
         "0.026657950448298662",
         "0.029418553497617905",
         "0.037617769616819174"
        ],
        [
         "5",
         "2015-01-09 00:00:00",
         "-0.011748610100441481",
         "0.0010726568269749936",
         "-0.012211313224844256",
         "-0.0056281147711049195",
         "-0.008405267532490934",
         "0.0040282195448426705"
        ],
        [
         "6",
         "2015-01-12 00:00:00",
         "-0.018590241168821242",
         "-0.024640389691353404",
         "-0.007309462748600559",
         "-0.013120592633399597",
         "-0.012502864196331509",
         "-0.01253777495173769"
        ],
        [
         "7",
         "2015-01-13 00:00:00",
         "0.0114272047823194",
         "0.008878300767490854",
         "0.009536037907843964",
         "-0.0035194139261419677",
         "-0.005150092748000601",
         "-0.0015235931168906536"
        ],
        [
         "8",
         "2015-01-14 00:00:00",
         "-0.00498748937494764",
         "-0.0038104438612270863",
         "0.008230415311906603",
         "-0.0022236311575233314",
         "-0.008627698922859972",
         "0.004069262024120057"
        ],
        [
         "9",
         "2015-01-15 00:00:00",
         "-0.02155010661563239",
         "-0.02714034830168255",
         "-0.0037950026587721952",
         "-0.029234174193012108",
         "-0.010443997987561016",
         "-0.007091986228544678"
        ],
        [
         "10",
         "2015-01-16 00:00:00",
         "0.013207865973644317",
         "-0.007770124645281928",
         "0.01279735338651089",
         "0.015259778002736146",
         "0.016710939716857665",
         "0.018367064569050795"
        ],
        [
         "11",
         "2015-01-20 00:00:00",
         "-0.0044713201976834815",
         "0.02575732745565973",
         "-0.0010187451966234828",
         "0.014099534925605894",
         "0.0032437334783403937",
         "0.003006153273442891"
        ],
        [
         "12",
         "2015-01-21 00:00:00",
         "0.0269831443733215",
         "0.007634017162831297",
         "0.020492682675592677",
         "0.006558276515429284",
         "-0.01013191542825953",
         "0.013985842229671697"
        ],
        [
         "13",
         "2015-01-22 00:00:00",
         "0.043969695198313286",
         "0.02601579564515033",
         "0.03249483278864318",
         "0.011858359158694487",
         "0.026350423531965594",
         "0.017241384583417618"
        ],
        [
         "14",
         "2015-01-23 00:00:00",
         "0.006670557333399607",
         "0.0051600305165471205",
         "0.008654406738091591",
         "0.0023179773334915943",
         "0.0010609838551549622",
         "0.0029055853430683953"
        ],
        [
         "15",
         "2015-01-26 00:00:00",
         "-0.008739099022464614",
         "0.0010620806212435774",
         "-0.009650329386032164",
         "-0.00423999415892562",
         "-0.003603295846238308",
         "-0.004345421302193397"
        ],
        [
         "16",
         "2015-01-27 00:00:00",
         "-0.009397415550576937",
         "-0.035013217242824024",
         "-0.028935072490688163",
         "-0.022193652307319844",
         "-0.09253346883375357",
         "-0.048011863500135865"
        ],
        [
         "17",
         "2015-01-28 00:00:00",
         "-0.009258304692531527",
         "0.05653279128376232",
         "-0.01680763998059842",
         "0.0060702358138657875",
         "-0.03445883963865193",
         "-0.016301479676079422"
        ],
        [
         "18",
         "2015-01-29 00:00:00",
         "0.02589578261385017",
         "0.03113355000906548",
         "0.001561205944925259",
         "0.023085008772562476",
         "0.019908072947590005",
         "0.02433969184676399"
        ],
        [
         "19",
         "2015-01-30 00:00:00",
         "0.13711590504758542",
         "-0.014634119284694047",
         "0.047386128343153144",
         "-0.02679486928986008",
         "-0.03832389203493092",
         "-0.029322770948621013"
        ],
        [
         "20",
         "2015-02-02 00:00:00",
         "0.02803710563321249",
         "0.012546778380407186",
         "-0.009952529270008226",
         "-0.012119679820432494",
         "0.021781721387718278",
         "0.021875189165725617"
        ],
        [
         "21",
         "2015-02-03 00:00:00",
         "-0.0025241873816378435",
         "0.00016879942599512532",
         "0.002066914746313042",
         "0.005467496145964645",
         "0.007752003889723191",
         "0.024974621666641328"
        ],
        [
         "22",
         "2015-02-04 00:00:00",
         "0.0033007545975995978",
         "0.007669693475018224",
         "-0.013500847544991146",
         "0.0030503124307721396",
         "0.005769199348455434",
         "0.002486246025979577"
        ],
        [
         "23",
         "2015-02-05 00:00:00",
         "0.02505830029005307",
         "0.007137440904283032",
         "0.00708986781871257",
         "-0.00026439831611391185",
         "0.014579377133826066",
         "0.016368736998997546"
        ],
        [
         "24",
         "2015-02-06 00:00:00",
         "0.0010431267192867466",
         "-0.00842109515918621",
         "0.0076440450066943555",
         "-0.015077424571601439",
         "-0.0009428031697189532",
         "-0.004392139248212579"
        ],
        [
         "25",
         "2015-02-09 00:00:00",
         "-0.009939126696499656",
         "0.006642761886568982",
         "-0.008616190386175782",
         "-0.0004028265942065401",
         "-0.0011784376702842492",
         "-0.0009803975872249016"
        ],
        [
         "26",
         "2015-02-10 00:00:00",
         "0.006584614713103232",
         "0.019211525019505515",
         "0.02055611851966077",
         "0.010075237631778977",
         "0.005665796355600161",
         "0.027968660341333162"
        ],
        [
         "27",
         "2015-02-11 00:00:00",
         "0.005737284350710414",
         "0.023438713705507874",
         "-0.003998774100520519",
         "0.017555664201756027",
         "-0.005164290705705454",
         "-0.00668237712326758"
        ],
        [
         "28",
         "2015-02-12 00:00:00",
         "0.005411289527123442",
         "0.012651908258960232",
         "0.014888553604272659",
         "-0.0036597018785888835",
         "0.01675319721364965",
         "0.07159982445509927"
        ],
        [
         "29",
         "2015-02-13 00:00:00",
         "0.012355161199459674",
         "0.004903115569699024",
         "0.009432024090380686",
         "-0.006428027978227391",
         "0.018101340744213212",
         "0.0004484608560602066"
        ],
        [
         "30",
         "2015-02-17 00:00:00",
         "-0.01676137056164162",
         "0.0059015536347295505",
         "-0.011158267263548849",
         "-0.0018483024870027398",
         "0.00045902918921369995",
         "0.003137930117105281"
        ],
        [
         "31",
         "2015-02-18 00:00:00",
         "-0.005486974164552572",
         "0.006962444883036323",
         "-0.004330299182902286",
         "0.01468251106030638",
         "-0.0011472994887914423",
         "-0.011617521390520635"
        ],
        [
         "32",
         "2015-02-19 00:00:00",
         "0.015078868098447495",
         "-0.002097408819284108",
         "0.007002749144869647",
         "0.03532781458011525",
         "-0.0006889677107312364",
         "0.0027118742256198036"
        ],
        [
         "33",
         "2015-02-20 00:00:00",
         "0.012295503549077491",
         "0.00817447885447442",
         "-0.008509493160499315",
         "0.006043803714998575",
         "0.008275847662668534",
         "0.007213972377304589"
        ],
        [
         "34",
         "2015-02-23 00:00:00",
         "-0.009174820930662242",
         "0.027026713661397972",
         "-0.012550752876287818",
         "-0.013266716509470089",
         "0.006611854673359119",
         "-0.008057285979348627"
        ],
        [
         "35",
         "2015-02-24 00:00:00",
         "-0.004077413046397305",
         "-0.006240543513372998",
         "0.006822433043197851",
         "-0.004946577218603809",
         "-0.0013587847029616906",
         "0.010645811134714966"
        ],
        [
         "36",
         "2015-02-25 00:00:00",
         "0.01790849120006932",
         "-0.02557327756283201",
         "0.01611435155938601",
         "0.014149112961634458",
         "-0.0022680560068768507",
         "-0.007619682946407469"
        ],
        [
         "37",
         "2015-02-26 00:00:00",
         "-0.0014790774682414964",
         "0.012656441851086608",
         "0.02185154933480815",
         "0.010683834525126779",
         "0.0015909474229278686",
         "0.0027095347263261793"
        ],
        [
         "38",
         "2015-02-27 00:00:00",
         "-0.012058230442414719",
         "-0.015028314148701427",
         "0.005971867738600256",
         "-0.017908368607594705",
         "-0.004766262136408295",
         "-0.006306166559465143"
        ],
        [
         "39",
         "2015-03-02 00:00:00",
         "0.014467673309540796",
         "0.00490394726513399",
         "0.02202149126940567",
         "0.009877255835938792",
         "0.0006841410845581652",
         "0.024478517053512228"
        ],
        [
         "40",
         "2015-03-03 00:00:00",
         "-0.0027226923140073467",
         "0.0020918602428785515",
         "0.006556339262726141",
         "-0.0018807833969416432",
         "-0.013673467110546511",
         "-0.018583987972124016"
        ],
        [
         "41",
         "2015-03-04 00:00:00",
         "-0.004914047560482082",
         "-0.006338981693856494",
         "-0.0007947569720494485",
         "0.01633163931481496",
         "-0.0050830064026538",
         "0.011271436206901075"
        ],
        [
         "42",
         "2015-03-05 00:00:00",
         "0.013351839346541716",
         "-0.01657060490041784",
         "0.005360320205187286",
         "0.0038318249453253017",
         "0.0011608467256172261",
         "0.019170642375066382"
        ],
        [
         "43",
         "2015-03-06 00:00:00",
         "-0.019957250762314804",
         "0.0015029655731124691",
         "-0.014670714396054496",
         "-0.014776424150056422",
         "-0.017397217607548532",
         "-0.013560674951677676"
        ],
        [
         "44",
         "2015-03-09 00:00:00",
         "-0.004025359322132216",
         "0.004265466781476102",
         "0.0020945623776018607",
         "-0.00712413435837711",
         "0.011567667512292434",
         "0.0026608200446833763"
        ],
        [
         "45",
         "2015-03-10 00:00:00",
         "-0.02390635046947598",
         "-0.020685918348996912",
         "-0.024821464392109305",
         "-0.023791502667039555",
         "-0.01913697346326526",
         "0.017248994993046107"
        ],
        [
         "46",
         "2015-03-11 00:00:00",
         "-0.008497717902359425",
         "-0.01823160102610144",
         "-0.007430560997849889",
         "0.0002577534916710089",
         "-0.0011894003262481467",
         "-0.005217520750476323"
        ],
        [
         "47",
         "2015-03-12 00:00:00",
         "0.02148098169857482",
         "0.01807925770706431",
         "0.009861680045504917",
         "0.017532692689704144",
         "-0.02286782029375234",
         "-0.009177793722485061"
        ],
        [
         "48",
         "2015-03-13 00:00:00",
         "-0.009779850663734435",
         "-0.006910240700593984",
         "-0.014558930891897082",
         "-0.011149173624085407",
         "0.008776083098146925",
         "0.0013230397263301885"
        ],
        [
         "49",
         "2015-03-16 00:00:00",
         "0.007474781080550219",
         "0.011003932470760924",
         "0.015623916087576406",
         "0.00025610229962191866",
         "0.004349973355653791",
         "0.011893804075253867"
        ]
       ],
       "shape": {
        "columns": 7,
        "rows": 2537
       }
      },
      "text/html": [
       "<div>\n",
       "<style scoped>\n",
       "    .dataframe tbody tr th:only-of-type {\n",
       "        vertical-align: middle;\n",
       "    }\n",
       "\n",
       "    .dataframe tbody tr th {\n",
       "        vertical-align: top;\n",
       "    }\n",
       "\n",
       "    .dataframe thead th {\n",
       "        text-align: right;\n",
       "    }\n",
       "</style>\n",
       "<table border=\"1\" class=\"dataframe\">\n",
       "  <thead>\n",
       "    <tr style=\"text-align: right;\">\n",
       "      <th>Company</th>\n",
       "      <th>Date</th>\n",
       "      <th>Amazon</th>\n",
       "      <th>Apple</th>\n",
       "      <th>Google</th>\n",
       "      <th>Meta Platforms</th>\n",
       "      <th>Microsoft</th>\n",
       "      <th>NVIDIA</th>\n",
       "    </tr>\n",
       "  </thead>\n",
       "  <tbody>\n",
       "    <tr>\n",
       "      <th>0</th>\n",
       "      <td>2015-01-02</td>\n",
       "      <td>NaN</td>\n",
       "      <td>NaN</td>\n",
       "      <td>NaN</td>\n",
       "      <td>NaN</td>\n",
       "      <td>NaN</td>\n",
       "      <td>NaN</td>\n",
       "    </tr>\n",
       "    <tr>\n",
       "      <th>1</th>\n",
       "      <td>2015-01-05</td>\n",
       "      <td>-0.020517</td>\n",
       "      <td>-0.028172</td>\n",
       "      <td>-0.019054</td>\n",
       "      <td>-0.016061</td>\n",
       "      <td>-0.009196</td>\n",
       "      <td>-0.016890</td>\n",
       "    </tr>\n",
       "    <tr>\n",
       "      <th>2</th>\n",
       "      <td>2015-01-06</td>\n",
       "      <td>-0.022833</td>\n",
       "      <td>0.000094</td>\n",
       "      <td>-0.024679</td>\n",
       "      <td>-0.013473</td>\n",
       "      <td>-0.014677</td>\n",
       "      <td>-0.030318</td>\n",
       "    </tr>\n",
       "    <tr>\n",
       "      <th>3</th>\n",
       "      <td>2015-01-07</td>\n",
       "      <td>0.010600</td>\n",
       "      <td>0.014023</td>\n",
       "      <td>-0.002941</td>\n",
       "      <td>0.000000</td>\n",
       "      <td>0.012705</td>\n",
       "      <td>-0.002606</td>\n",
       "    </tr>\n",
       "    <tr>\n",
       "      <th>4</th>\n",
       "      <td>2015-01-08</td>\n",
       "      <td>0.006836</td>\n",
       "      <td>0.038422</td>\n",
       "      <td>0.003484</td>\n",
       "      <td>0.026658</td>\n",
       "      <td>0.029419</td>\n",
       "      <td>0.037618</td>\n",
       "    </tr>\n",
       "    <tr>\n",
       "      <th>...</th>\n",
       "      <td>...</td>\n",
       "      <td>...</td>\n",
       "      <td>...</td>\n",
       "      <td>...</td>\n",
       "      <td>...</td>\n",
       "      <td>...</td>\n",
       "      <td>...</td>\n",
       "    </tr>\n",
       "    <tr>\n",
       "      <th>2532</th>\n",
       "      <td>2025-01-28</td>\n",
       "      <td>0.011596</td>\n",
       "      <td>0.036544</td>\n",
       "      <td>0.018195</td>\n",
       "      <td>0.021898</td>\n",
       "      <td>0.029087</td>\n",
       "      <td>0.089259</td>\n",
       "    </tr>\n",
       "    <tr>\n",
       "      <th>2533</th>\n",
       "      <td>2025-01-29</td>\n",
       "      <td>-0.004535</td>\n",
       "      <td>0.004617</td>\n",
       "      <td>0.000563</td>\n",
       "      <td>0.003203</td>\n",
       "      <td>-0.010890</td>\n",
       "      <td>-0.041011</td>\n",
       "    </tr>\n",
       "    <tr>\n",
       "      <th>2534</th>\n",
       "      <td>2025-01-30</td>\n",
       "      <td>-0.010250</td>\n",
       "      <td>-0.007395</td>\n",
       "      <td>0.027941</td>\n",
       "      <td>0.015536</td>\n",
       "      <td>-0.061809</td>\n",
       "      <td>0.007680</td>\n",
       "    </tr>\n",
       "    <tr>\n",
       "      <th>2535</th>\n",
       "      <td>2025-01-31</td>\n",
       "      <td>0.012956</td>\n",
       "      <td>-0.006692</td>\n",
       "      <td>0.015682</td>\n",
       "      <td>0.003173</td>\n",
       "      <td>0.000169</td>\n",
       "      <td>-0.036743</td>\n",
       "    </tr>\n",
       "    <tr>\n",
       "      <th>2536</th>\n",
       "      <td>2025-02-03</td>\n",
       "      <td>-0.001094</td>\n",
       "      <td>-0.033856</td>\n",
       "      <td>-0.013675</td>\n",
       "      <td>0.012014</td>\n",
       "      <td>-0.009974</td>\n",
       "      <td>-0.028400</td>\n",
       "    </tr>\n",
       "  </tbody>\n",
       "</table>\n",
       "<p>2537 rows × 7 columns</p>\n",
       "</div>"
      ],
      "text/plain": [
       "Company       Date    Amazon     Apple    Google  Meta Platforms  Microsoft  \\\n",
       "0       2015-01-02       NaN       NaN       NaN             NaN        NaN   \n",
       "1       2015-01-05 -0.020517 -0.028172 -0.019054       -0.016061  -0.009196   \n",
       "2       2015-01-06 -0.022833  0.000094 -0.024679       -0.013473  -0.014677   \n",
       "3       2015-01-07  0.010600  0.014023 -0.002941        0.000000   0.012705   \n",
       "4       2015-01-08  0.006836  0.038422  0.003484        0.026658   0.029419   \n",
       "...            ...       ...       ...       ...             ...        ...   \n",
       "2532    2025-01-28  0.011596  0.036544  0.018195        0.021898   0.029087   \n",
       "2533    2025-01-29 -0.004535  0.004617  0.000563        0.003203  -0.010890   \n",
       "2534    2025-01-30 -0.010250 -0.007395  0.027941        0.015536  -0.061809   \n",
       "2535    2025-01-31  0.012956 -0.006692  0.015682        0.003173   0.000169   \n",
       "2536    2025-02-03 -0.001094 -0.033856 -0.013675        0.012014  -0.009974   \n",
       "\n",
       "Company    NVIDIA  \n",
       "0             NaN  \n",
       "1       -0.016890  \n",
       "2       -0.030318  \n",
       "3       -0.002606  \n",
       "4        0.037618  \n",
       "...           ...  \n",
       "2532     0.089259  \n",
       "2533    -0.041011  \n",
       "2534     0.007680  \n",
       "2535    -0.036743  \n",
       "2536    -0.028400  \n",
       "\n",
       "[2537 rows x 7 columns]"
      ]
     },
     "execution_count": 105,
     "metadata": {},
     "output_type": "execute_result"
    }
   ],
   "source": [
    "# Daily Returns\n",
    "# Calculate daily returns\n",
    "returns_df = pivot_df.pct_change().reset_index()\n",
    "returns_df"
   ]
  },
  {
   "cell_type": "code",
   "execution_count": 106,
   "metadata": {},
   "outputs": [
    {
     "data": {
      "text/plain": [
       "<Axes: xlabel='Date', ylabel='Apple'>"
      ]
     },
     "execution_count": 106,
     "metadata": {},
     "output_type": "execute_result"
    },
    {
     "data": {
      "image/png": "[encoded data removed]",
      "text/plain": [
       "<Figure size 1000x600 with 1 Axes>"
      ]
     },
     "metadata": {},
     "output_type": "display_data"
    }
   ],
   "source": [
    "plt.figure(figsize=(10, 6))\n",
    "sns.lineplot(data=returns_df, x='Date', y='Apple', label='AAPL')"
   ]
  },
  {
   "cell_type": "markdown",
   "metadata": {},
   "source": [
    "## Volume-Price Relationship"
   ]
  },
  {
   "cell_type": "code",
   "execution_count": 113,
   "metadata": {},
   "outputs": [
    {
     "data": {
      "image/png": "[encoded data removed]",
      "text/plain": [
       "<Figure size 1000x600 with 1 Axes>"
      ]
     },
     "metadata": {},
     "output_type": "display_data"
    }
   ],
   "source": [
    "volume_price_corr = df.groupby('Ticker')[['Volume', 'Close']].corr().unstack().iloc[:,1]\n",
    "\n",
    "volume_price_corr = volume_price_corr.reset_index()\n",
    "volume_price_corr.columns = ['Company', 'Correlation']\n",
    "\n",
    "plt.figure(figsize=(10, 6))\n",
    "sns.barplot(data=volume_price_corr,\n",
    "            x='Correlation',\n",
    "            y='Company',\n",
    "            palette='crest_r',\n",
    "           )\n",
    "\n",
    "sns.despine()"
   ]
  }
 ],
 "metadata": {
  "kernelspec": {
   "display_name": "data_projects",
   "language": "python",
   "name": "python3"
  },
  "language_info": {
   "codemirror_mode": {
    "name": "ipython",
    "version": 3
   },
   "file_extension": ".py",
   "mimetype": "text/x-python",
   "name": "python",
   "nbconvert_exporter": "python",
   "pygments_lexer": "ipython3",
   "version": "3.12.3"
  }
 },
 "nbformat": 4,
 "nbformat_minor": 2
}
