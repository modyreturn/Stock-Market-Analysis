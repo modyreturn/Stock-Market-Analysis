{
 "cells": [
  {
   "cell_type": "code",
   "execution_count": 33,
   "metadata": {},
   "outputs": [
    {
     "data": {
      "application/vnd.microsoft.datawrangler.viewer.v0+json": {
       "columns": [
        {
         "name": "index",
         "rawType": "int64",
         "type": "integer"
        },
        {
         "name": "Unnamed: 0",
         "rawType": "int64",
         "type": "integer"
        },
        {
         "name": "Date",
         "rawType": "object",
         "type": "string"
        },
        {
         "name": "Ticker",
         "rawType": "object",
         "type": "string"
        },
        {
         "name": "Company",
         "rawType": "object",
         "type": "string"
        },
        {
         "name": "Close",
         "rawType": "float64",
         "type": "float"
        },
        {
         "name": "High",
         "rawType": "float64",
         "type": "float"
        },
        {
         "name": "Low",
         "rawType": "float64",
         "type": "float"
        },
        {
         "name": "Open",
         "rawType": "float64",
         "type": "float"
        },
        {
         "name": "Volume",
         "rawType": "float64",
         "type": "float"
        },
        {
         "name": "Year",
         "rawType": "int64",
         "type": "integer"
        },
        {
         "name": "Month Name",
         "rawType": "object",
         "type": "string"
        },
        {
         "name": "Month",
         "rawType": "int64",
         "type": "integer"
        }
       ],
       "conversionMethod": "pd.DataFrame",
       "ref": "f97eb013-c0c2-44dd-bf8f-50dfe860271e",
       "rows": [
        [
         "0",
         "0",
         "2015-01-02",
         "AAPL",
         "Apple",
         "24.3471736907959",
         "24.81705890517008",
         "23.90623813027048",
         "24.805923508061987",
         "212818400.0",
         "2015",
         "Jan",
         "1"
        ],
        [
         "1",
         "1",
         "2015-01-02",
         "AMZN",
         "Amazon",
         "15.425999641418455",
         "15.737500190734863",
         "15.347999572753906",
         "15.628999710083008",
         "55664000.0",
         "2015",
         "Jan",
         "1"
        ],
        [
         "2",
         "2",
         "2015-01-02",
         "GOOGL",
         "Google",
         "26.38186454772949",
         "26.693235802043404",
         "26.298664339339545",
         "26.53381197141211",
         "26480000.0",
         "2015",
         "Jan",
         "1"
        ],
        [
         "3",
         "3",
         "2015-01-02",
         "META",
         "Meta Platforms",
         "78.1514663696289",
         "78.62964314038716",
         "77.40432039056797",
         "78.28097653689777",
         "18177500.0",
         "2015",
         "Jan",
         "1"
        ],
        [
         "4",
         "4",
         "2015-01-02",
         "MSFT",
         "Microsoft",
         "40.152488708496094",
         "40.71922603467389",
         "39.96357845020635",
         "40.06662070706024",
         "27913900.0",
         "2015",
         "Jan",
         "1"
        ],
        [
         "5",
         "5",
         "2015-01-02",
         "NVDA",
         "NVIDIA",
         "0.4831436276435852",
         "0.4867438288642689",
         "0.4754632365216313",
         "0.4831436276435852",
         "113680000.0",
         "2015",
         "Jan",
         "1"
        ],
        [
         "6",
         "6",
         "2015-01-05",
         "AAPL",
         "Apple",
         "23.661273956298828",
         "24.195740719586887",
         "23.474211523610663",
         "24.115570620142528",
         "257142000.0",
         "2015",
         "Jan",
         "1"
        ],
        [
         "7",
         "7",
         "2015-01-05",
         "AMZN",
         "Amazon",
         "15.10949993133545",
         "15.418999671936035",
         "15.042499542236328",
         "15.350500106811523",
         "55484000.0",
         "2015",
         "Jan",
         "1"
        ],
        [
         "8",
         "8",
         "2015-01-05",
         "GOOGL",
         "Google",
         "25.87918472290039",
         "26.304144518013192",
         "25.79399473602273",
         "26.262296405064323",
         "41182000.0",
         "2015",
         "Jan",
         "1"
        ],
        [
         "9",
         "9",
         "2015-01-05",
         "META",
         "Meta Platforms",
         "76.8962631225586",
         "78.94842155353801",
         "76.5675170825391",
         "77.68325776365303",
         "26452200.0",
         "2015",
         "Jan",
         "1"
        ],
        [
         "10",
         "10",
         "2015-01-05",
         "MSFT",
         "Microsoft",
         "39.78324508666992",
         "40.126720293860174",
         "39.71454807983972",
         "39.81759031443144",
         "39673900.0",
         "2015",
         "Jan",
         "1"
        ],
        [
         "11",
         "11",
         "2015-01-05",
         "NVDA",
         "NVIDIA",
         "0.4749831557273865",
         "0.4845836433463086",
         "0.4728230638953944",
         "0.4831435630505641",
         "197952000.0",
         "2015",
         "Jan",
         "1"
        ],
        [
         "12",
         "12",
         "2015-01-06",
         "AAPL",
         "Apple",
         "23.663497924804688",
         "23.924049860493223",
         "23.300505111079683",
         "23.72585205994149",
         "263188400.0",
         "2015",
         "Jan",
         "1"
        ],
        [
         "13",
         "13",
         "2015-01-06",
         "AMZN",
         "Amazon",
         "14.76449966430664",
         "15.149999618530272",
         "14.619000434875488",
         "15.112000465393066",
         "70380000.0",
         "2015",
         "Jan",
         "1"
        ],
        [
         "14",
         "14",
         "2015-01-06",
         "GOOGL",
         "Google",
         "25.240501403808597",
         "25.966368522154774",
         "25.18619768037441",
         "25.930997174056603",
         "54456000.0",
         "2015",
         "Jan",
         "1"
        ],
        [
         "15",
         "15",
         "2015-01-06",
         "META",
         "Meta Platforms",
         "75.86021423339844",
         "77.29472917424276",
         "75.07321965039611",
         "76.93610613930245",
         "27399300.0",
         "2015",
         "Jan",
         "1"
        ],
        [
         "16",
         "16",
         "2015-01-06",
         "MSFT",
         "Microsoft",
         "39.1993408203125",
         "40.14390190788338",
         "39.104884056424574",
         "39.82618638215924",
         "36447900.0",
         "2015",
         "Jan",
         "1"
        ],
        [
         "17",
         "17",
         "2015-01-06",
         "NVDA",
         "NVIDIA",
         "0.460582435131073",
         "0.476183179931143",
         "0.4601024179364723",
         "0.4757031627365423",
         "197764000.0",
         "2015",
         "Jan",
         "1"
        ],
        [
         "18",
         "18",
         "2015-01-07",
         "AAPL",
         "Apple",
         "23.99531936645508",
         "24.095531157517737",
         "23.76148958861117",
         "23.87283677824669",
         "160423600.0",
         "2015",
         "Jan",
         "1"
        ],
        [
         "19",
         "19",
         "2015-01-07",
         "AMZN",
         "Amazon",
         "14.92099952697754",
         "15.064000129699709",
         "14.76650047302246",
         "14.875",
         "52806000.0",
         "2015",
         "Jan",
         "1"
        ],
        [
         "20",
         "20",
         "2015-01-07",
         "GOOGL",
         "Google",
         "25.1662712097168",
         "25.482125663309542",
         "25.091543245230124",
         "25.45522466035161",
         "46918000.0",
         "2015",
         "Jan",
         "1"
        ],
        [
         "21",
         "21",
         "2015-01-07",
         "META",
         "Meta Platforms",
         "75.86021423339844",
         "77.06560869079864",
         "75.53146821764538",
         "76.46789349875009",
         "22045300.0",
         "2015",
         "Jan",
         "1"
        ],
        [
         "22",
         "22",
         "2015-01-07",
         "MSFT",
         "Microsoft",
         "39.697364807128906",
         "39.894863743404834",
         "39.06193401661555",
         "39.48269162304818",
         "29114100.0",
         "2015",
         "Jan",
         "1"
        ],
        [
         "23",
         "23",
         "2015-01-07",
         "NVDA",
         "NVIDIA",
         "0.4593822658061981",
         "0.4680226876483051",
         "0.457942185961975",
         "0.4639424709602116",
         "321808000.0",
         "2015",
         "Jan",
         "1"
        ],
        [
         "24",
         "24",
         "2015-01-08",
         "AAPL",
         "Apple",
         "24.917266845703125",
         "24.975167843506743",
         "24.20687143499122",
         "24.324900849481665",
         "237458000.0",
         "2015",
         "Jan",
         "1"
        ],
        [
         "25",
         "25",
         "2015-01-08",
         "AMZN",
         "Amazon",
         "15.02299976348877",
         "15.156999588012695",
         "14.805500030517578",
         "15.015999794006348",
         "61768000.0",
         "2015",
         "Jan",
         "1"
        ],
        [
         "26",
         "26",
         "2015-01-08",
         "GOOGL",
         "Google",
         "25.25395393371582",
         "25.28334643817867",
         "24.661599755775494",
         "24.984928707622984",
         "73054000.0",
         "2015",
         "Jan",
         "1"
        ],
        [
         "27",
         "27",
         "2015-01-08",
         "META",
         "Meta Platforms",
         "77.88249206542969",
         "77.93230483425258",
         "75.7904849810127",
         "76.44796944737853",
         "23961000.0",
         "2015",
         "Jan",
         "1"
        ],
        [
         "28",
         "28",
         "2015-01-08",
         "MSFT",
         "Microsoft",
         "40.86520385742188",
         "41.00259461936111",
         "40.11814179410568",
         "40.14390153832736",
         "29645200.0",
         "2015",
         "Jan",
         "1"
        ],
        [
         "29",
         "29",
         "2015-01-08",
         "NVDA",
         "NVIDIA",
         "0.476663202047348",
         "0.4795433624679356",
         "0.4644226060947199",
         "0.4646626290003099",
         "283780000.0",
         "2015",
         "Jan",
         "1"
        ],
        [
         "30",
         "30",
         "2015-01-09",
         "AAPL",
         "Apple",
         "24.943994522094727",
         "25.220135039292984",
         "24.543144014046412",
         "25.09097190903041",
         "214798000.0",
         "2015",
         "Jan",
         "1"
        ],
        [
         "31",
         "31",
         "2015-01-09",
         "AMZN",
         "Amazon",
         "14.846500396728516",
         "15.143500328063965",
         "14.833999633789062",
         "15.074000358581545",
         "51848000.0",
         "2015",
         "Jan",
         "1"
        ],
        [
         "32",
         "32",
         "2015-01-09",
         "GOOGL",
         "Google",
         "24.94556999206543",
         "25.338147878892897",
         "24.84244536664587",
         "25.317223821508133",
         "42000000.0",
         "2015",
         "Jan",
         "1"
        ],
        [
         "33",
         "33",
         "2015-01-09",
         "META",
         "Meta Platforms",
         "77.44416046142578",
         "78.32081651010225",
         "76.90621450438188",
         "77.90240903216072",
         "21157000.0",
         "2015",
         "Jan",
         "1"
        ],
        [
         "34",
         "34",
         "2015-01-09",
         "MSFT",
         "Microsoft",
         "40.52172088623047",
         "41.06269838534283",
         "40.27270240944244",
         "40.88237364418997",
         "23944200.0",
         "2015",
         "Jan",
         "1"
        ],
        [
         "35",
         "35",
         "2015-01-09",
         "NVDA",
         "NVIDIA",
         "0.4785833060741424",
         "0.4821835066496536",
         "0.4718629793525605",
         "0.4783433117768573",
         "209540000.0",
         "2015",
         "Jan",
         "1"
        ],
        [
         "36",
         "36",
         "2015-01-12",
         "AAPL",
         "Apple",
         "24.329364776611328",
         "25.082071285740398",
         "24.229152969726695",
         "25.075390725151223",
         "198603200.0",
         "2015",
         "Jan",
         "1"
        ],
        [
         "37",
         "37",
         "2015-01-12",
         "AMZN",
         "Amazon",
         "14.570500373840332",
         "14.92549991607666",
         "14.46399974822998",
         "14.878000259399414",
         "68428000.0",
         "2015",
         "Jan",
         "1"
        ],
        [
         "38",
         "38",
         "2015-01-12",
         "GOOGL",
         "Google",
         "24.76323127746582",
         "24.923649043990856",
         "24.456841135285984",
         "24.87183682306002",
         "57138000.0",
         "2015",
         "Jan",
         "1"
        ],
        [
         "39",
         "39",
         "2015-01-12",
         "META",
         "Meta Platforms",
         "76.42804718017578",
         "77.70317498958815",
         "75.91998583098886",
         "77.54378021323096",
         "19190200.0",
         "2015",
         "Jan",
         "1"
        ],
        [
         "40",
         "40",
         "2015-01-12",
         "MSFT",
         "Microsoft",
         "40.01508331298828",
         "40.82225664429584",
         "39.80899887461624",
         "40.71921114945673",
         "23651900.0",
         "2015",
         "Jan",
         "1"
        ],
        [
         "41",
         "41",
         "2015-01-12",
         "NVDA",
         "NVIDIA",
         "0.4725829362869262",
         "0.4800233018140094",
         "0.4682627249683496",
         "0.479783278947348",
         "190732000.0",
         "2015",
         "Jan",
         "1"
        ],
        [
         "42",
         "42",
         "2015-01-13",
         "AAPL",
         "Apple",
         "24.54536819458008",
         "25.119919947298012",
         "24.25363917939617",
         "24.81482811759365",
         "268367600.0",
         "2015",
         "Jan",
         "1"
        ],
        [
         "43",
         "43",
         "2015-01-13",
         "AMZN",
         "Amazon",
         "14.737000465393066",
         "15.074999809265137",
         "14.661499977111816",
         "14.87399959564209",
         "82728000.0",
         "2015",
         "Jan",
         "1"
        ],
        [
         "44",
         "44",
         "2015-01-13",
         "GOOGL",
         "Google",
         "24.99937438964844",
         "25.338146452437982",
         "24.77319503439497",
         "25.03773515936092",
         "60958000.0",
         "2015",
         "Jan",
         "1"
        ],
        [
         "45",
         "45",
         "2015-01-13",
         "META",
         "Meta Platforms",
         "76.15906524658203",
         "77.78286711941152",
         "75.56135007637248",
         "76.93610332825126",
         "25179600.0",
         "2015",
         "Jan",
         "1"
        ],
        [
         "46",
         "46",
         "2015-01-13",
         "MSFT",
         "Microsoft",
         "39.80900192260742",
         "41.13997521414801",
         "39.55139471709204",
         "40.332805096692255",
         "35270600.0",
         "2015",
         "Jan",
         "1"
        ],
        [
         "47",
         "47",
         "2015-01-13",
         "NVDA",
         "NVIDIA",
         "0.4718629121780395",
         "0.4857835808456472",
         "0.4685027636014119",
         "0.4761831236420032",
         "236720000.0",
         "2015",
         "Jan",
         "1"
        ],
        [
         "48",
         "48",
         "2015-01-14",
         "AAPL",
         "Apple",
         "24.451839447021484",
         "24.60549738776521",
         "24.16233612262507",
         "24.282591271265595",
         "195826400.0",
         "2015",
         "Jan",
         "1"
        ],
        [
         "49",
         "49",
         "2015-01-14",
         "AMZN",
         "Amazon",
         "14.66349983215332",
         "14.795499801635742",
         "14.324999809265137",
         "14.596500396728516",
         "110774000.0",
         "2015",
         "Jan",
         "1"
        ]
       ],
       "shape": {
        "columns": 12,
        "rows": 15222
       }
      },
      "text/html": [
       "<div>\n",
       "<style scoped>\n",
       "    .dataframe tbody tr th:only-of-type {\n",
       "        vertical-align: middle;\n",
       "    }\n",
       "\n",
       "    .dataframe tbody tr th {\n",
       "        vertical-align: top;\n",
       "    }\n",
       "\n",
       "    .dataframe thead th {\n",
       "        text-align: right;\n",
       "    }\n",
       "</style>\n",
       "<table border=\"1\" class=\"dataframe\">\n",
       "  <thead>\n",
       "    <tr style=\"text-align: right;\">\n",
       "      <th></th>\n",
       "      <th>Unnamed: 0</th>\n",
       "      <th>Date</th>\n",
       "      <th>Ticker</th>\n",
       "      <th>Company</th>\n",
       "      <th>Close</th>\n",
       "      <th>High</th>\n",
       "      <th>Low</th>\n",
       "      <th>Open</th>\n",
       "      <th>Volume</th>\n",
       "      <th>Year</th>\n",
       "      <th>Month Name</th>\n",
       "      <th>Month</th>\n",
       "    </tr>\n",
       "  </thead>\n",
       "  <tbody>\n",
       "    <tr>\n",
       "      <th>0</th>\n",
       "      <td>0</td>\n",
       "      <td>2015-01-02</td>\n",
       "      <td>AAPL</td>\n",
       "      <td>Apple</td>\n",
       "      <td>24.347174</td>\n",
       "      <td>24.817059</td>\n",
       "      <td>23.906238</td>\n",
       "      <td>24.805924</td>\n",
       "      <td>212818400.0</td>\n",
       "      <td>2015</td>\n",
       "      <td>Jan</td>\n",
       "      <td>1</td>\n",
       "    </tr>\n",
       "    <tr>\n",
       "      <th>1</th>\n",
       "      <td>1</td>\n",
       "      <td>2015-01-02</td>\n",
       "      <td>AMZN</td>\n",
       "      <td>Amazon</td>\n",
       "      <td>15.426000</td>\n",
       "      <td>15.737500</td>\n",
       "      <td>15.348000</td>\n",
       "      <td>15.629000</td>\n",
       "      <td>55664000.0</td>\n",
       "      <td>2015</td>\n",
       "      <td>Jan</td>\n",
       "      <td>1</td>\n",
       "    </tr>\n",
       "    <tr>\n",
       "      <th>2</th>\n",
       "      <td>2</td>\n",
       "      <td>2015-01-02</td>\n",
       "      <td>GOOGL</td>\n",
       "      <td>Google</td>\n",
       "      <td>26.381865</td>\n",
       "      <td>26.693236</td>\n",
       "      <td>26.298664</td>\n",
       "      <td>26.533812</td>\n",
       "      <td>26480000.0</td>\n",
       "      <td>2015</td>\n",
       "      <td>Jan</td>\n",
       "      <td>1</td>\n",
       "    </tr>\n",
       "    <tr>\n",
       "      <th>3</th>\n",
       "      <td>3</td>\n",
       "      <td>2015-01-02</td>\n",
       "      <td>META</td>\n",
       "      <td>Meta Platforms</td>\n",
       "      <td>78.151466</td>\n",
       "      <td>78.629643</td>\n",
       "      <td>77.404320</td>\n",
       "      <td>78.280977</td>\n",
       "      <td>18177500.0</td>\n",
       "      <td>2015</td>\n",
       "      <td>Jan</td>\n",
       "      <td>1</td>\n",
       "    </tr>\n",
       "    <tr>\n",
       "      <th>4</th>\n",
       "      <td>4</td>\n",
       "      <td>2015-01-02</td>\n",
       "      <td>MSFT</td>\n",
       "      <td>Microsoft</td>\n",
       "      <td>40.152489</td>\n",
       "      <td>40.719226</td>\n",
       "      <td>39.963578</td>\n",
       "      <td>40.066621</td>\n",
       "      <td>27913900.0</td>\n",
       "      <td>2015</td>\n",
       "      <td>Jan</td>\n",
       "      <td>1</td>\n",
       "    </tr>\n",
       "    <tr>\n",
       "      <th>...</th>\n",
       "      <td>...</td>\n",
       "      <td>...</td>\n",
       "      <td>...</td>\n",
       "      <td>...</td>\n",
       "      <td>...</td>\n",
       "      <td>...</td>\n",
       "      <td>...</td>\n",
       "      <td>...</td>\n",
       "      <td>...</td>\n",
       "      <td>...</td>\n",
       "      <td>...</td>\n",
       "      <td>...</td>\n",
       "    </tr>\n",
       "    <tr>\n",
       "      <th>15217</th>\n",
       "      <td>15217</td>\n",
       "      <td>2025-02-03</td>\n",
       "      <td>AMZN</td>\n",
       "      <td>Amazon</td>\n",
       "      <td>237.419998</td>\n",
       "      <td>239.250000</td>\n",
       "      <td>232.899994</td>\n",
       "      <td>234.059998</td>\n",
       "      <td>37186200.0</td>\n",
       "      <td>2025</td>\n",
       "      <td>Feb</td>\n",
       "      <td>2</td>\n",
       "    </tr>\n",
       "    <tr>\n",
       "      <th>15218</th>\n",
       "      <td>15218</td>\n",
       "      <td>2025-02-03</td>\n",
       "      <td>GOOGL</td>\n",
       "      <td>Google</td>\n",
       "      <td>201.229996</td>\n",
       "      <td>203.750000</td>\n",
       "      <td>200.100006</td>\n",
       "      <td>200.690002</td>\n",
       "      <td>27735600.0</td>\n",
       "      <td>2025</td>\n",
       "      <td>Feb</td>\n",
       "      <td>2</td>\n",
       "    </tr>\n",
       "    <tr>\n",
       "      <th>15219</th>\n",
       "      <td>15219</td>\n",
       "      <td>2025-02-03</td>\n",
       "      <td>META</td>\n",
       "      <td>Meta Platforms</td>\n",
       "      <td>697.460022</td>\n",
       "      <td>704.000000</td>\n",
       "      <td>675.250000</td>\n",
       "      <td>675.909973</td>\n",
       "      <td>21378500.0</td>\n",
       "      <td>2025</td>\n",
       "      <td>Feb</td>\n",
       "      <td>2</td>\n",
       "    </tr>\n",
       "    <tr>\n",
       "      <th>15220</th>\n",
       "      <td>15220</td>\n",
       "      <td>2025-02-03</td>\n",
       "      <td>MSFT</td>\n",
       "      <td>Microsoft</td>\n",
       "      <td>410.920013</td>\n",
       "      <td>415.410004</td>\n",
       "      <td>408.660004</td>\n",
       "      <td>411.600006</td>\n",
       "      <td>25580600.0</td>\n",
       "      <td>2025</td>\n",
       "      <td>Feb</td>\n",
       "      <td>2</td>\n",
       "    </tr>\n",
       "    <tr>\n",
       "      <th>15221</th>\n",
       "      <td>15221</td>\n",
       "      <td>2025-02-03</td>\n",
       "      <td>NVDA</td>\n",
       "      <td>NVIDIA</td>\n",
       "      <td>116.660004</td>\n",
       "      <td>118.570000</td>\n",
       "      <td>113.010002</td>\n",
       "      <td>114.750000</td>\n",
       "      <td>369021900.0</td>\n",
       "      <td>2025</td>\n",
       "      <td>Feb</td>\n",
       "      <td>2</td>\n",
       "    </tr>\n",
       "  </tbody>\n",
       "</table>\n",
       "<p>15222 rows × 12 columns</p>\n",
       "</div>"
      ],
      "text/plain": [
       "       Unnamed: 0        Date Ticker         Company       Close        High  \\\n",
       "0               0  2015-01-02   AAPL           Apple   24.347174   24.817059   \n",
       "1               1  2015-01-02   AMZN          Amazon   15.426000   15.737500   \n",
       "2               2  2015-01-02  GOOGL          Google   26.381865   26.693236   \n",
       "3               3  2015-01-02   META  Meta Platforms   78.151466   78.629643   \n",
       "4               4  2015-01-02   MSFT       Microsoft   40.152489   40.719226   \n",
       "...           ...         ...    ...             ...         ...         ...   \n",
       "15217       15217  2025-02-03   AMZN          Amazon  237.419998  239.250000   \n",
       "15218       15218  2025-02-03  GOOGL          Google  201.229996  203.750000   \n",
       "15219       15219  2025-02-03   META  Meta Platforms  697.460022  704.000000   \n",
       "15220       15220  2025-02-03   MSFT       Microsoft  410.920013  415.410004   \n",
       "15221       15221  2025-02-03   NVDA          NVIDIA  116.660004  118.570000   \n",
       "\n",
       "              Low        Open       Volume  Year Month Name  Month  \n",
       "0       23.906238   24.805924  212818400.0  2015        Jan      1  \n",
       "1       15.348000   15.629000   55664000.0  2015        Jan      1  \n",
       "2       26.298664   26.533812   26480000.0  2015        Jan      1  \n",
       "3       77.404320   78.280977   18177500.0  2015        Jan      1  \n",
       "4       39.963578   40.066621   27913900.0  2015        Jan      1  \n",
       "...           ...         ...          ...   ...        ...    ...  \n",
       "15217  232.899994  234.059998   37186200.0  2025        Feb      2  \n",
       "15218  200.100006  200.690002   27735600.0  2025        Feb      2  \n",
       "15219  675.250000  675.909973   21378500.0  2025        Feb      2  \n",
       "15220  408.660004  411.600006   25580600.0  2025        Feb      2  \n",
       "15221  113.010002  114.750000  369021900.0  2025        Feb      2  \n",
       "\n",
       "[15222 rows x 12 columns]"
      ]
     },
     "execution_count": 33,
     "metadata": {},
     "output_type": "execute_result"
    }
   ],
   "source": [
    "import pandas as pd\n",
    "import matplotlib.pyplot as plt\n",
    "import seaborn as sns\n",
    "import numpy as np\n",
    "from matplotlib.ticker import  FuncFormatter\n",
    "import yfinance as yf #importing Yahoo Finance Liberary\n",
    "from datetime import date, timedelta\n",
    "\n",
    "import warnings\n",
    "warnings.filterwarnings(\"ignore\")\n",
    "\n",
    "df = pd.read_csv(r\"C:\\Users\\Mohamed Fawzi\\Desktop\\Stock Market Analysis\\stock_analysis.csv\")\n",
    "df"
   ]
  },
  {
   "cell_type": "code",
   "execution_count": 34,
   "metadata": {},
   "outputs": [],
   "source": [
    "df.drop(columns=['Unnamed: 0'], inplace=True)"
   ]
  },
  {
   "cell_type": "code",
   "execution_count": 35,
   "metadata": {},
   "outputs": [
    {
     "name": "stdout",
     "output_type": "stream",
     "text": [
      "<class 'pandas.core.frame.DataFrame'>\n",
      "RangeIndex: 15222 entries, 0 to 15221\n",
      "Data columns (total 11 columns):\n",
      " #   Column      Non-Null Count  Dtype         \n",
      "---  ------      --------------  -----         \n",
      " 0   Date        15222 non-null  datetime64[ns]\n",
      " 1   Ticker      15222 non-null  object        \n",
      " 2   Company     15222 non-null  object        \n",
      " 3   Close       15222 non-null  float64       \n",
      " 4   High        15222 non-null  float64       \n",
      " 5   Low         15222 non-null  float64       \n",
      " 6   Open        15222 non-null  float64       \n",
      " 7   Volume      15222 non-null  float64       \n",
      " 8   Year        15222 non-null  int64         \n",
      " 9   Month Name  15222 non-null  object        \n",
      " 10  Month       15222 non-null  int64         \n",
      "dtypes: datetime64[ns](1), float64(5), int64(2), object(3)\n",
      "memory usage: 1.3+ MB\n"
     ]
    }
   ],
   "source": [
    "\n",
    "df['Date'] = pd.to_datetime(df['Date'])\n",
    "df.info()"
   ]
  },
  {
   "cell_type": "markdown",
   "metadata": {},
   "source": [
    "#  Descriptive Statistics"
   ]
  },
  {
   "cell_type": "code",
   "execution_count": 43,
   "metadata": {},
   "outputs": [
    {
     "data": {
      "application/vnd.microsoft.datawrangler.viewer.v0+json": {
       "columns": [
        {
         "name": "index",
         "rawType": "int64",
         "type": "integer"
        },
        {
         "name": "Company",
         "rawType": "object",
         "type": "string"
        },
        {
         "name": "Avg_Close",
         "rawType": "float64",
         "type": "float"
        },
        {
         "name": "Avg_Volume",
         "rawType": "float64",
         "type": "float"
        },
        {
         "name": "Start_Price",
         "rawType": "float64",
         "type": "float"
        },
        {
         "name": "End_Price",
         "rawType": "float64",
         "type": "float"
        }
       ],
       "conversionMethod": "pd.DataFrame",
       "ref": "2bf62308-a42c-4100-b87d-17ecb8694a9e",
       "rows": [
        [
         "0",
         "Amazon",
         "102.28624041680985",
         "75786806.85849428",
         "15.425999641418455",
         "237.4199981689453"
        ],
        [
         "1",
         "Apple",
         "95.44220519601524",
         "116619386.63776113",
         "24.3471736907959",
         "228.00999450683597"
        ],
        [
         "2",
         "Google",
         "83.37267576449962",
         "35091524.99014584",
         "26.38186454772949",
         "201.22999572753903"
        ],
        [
         "3",
         "Meta Platforms",
         "224.91999400991787",
         "22824442.096964918",
         "78.1514663696289",
         "697.4600219726562"
        ],
        [
         "4",
         "Microsoft",
         "184.0400833683217",
         "28832708.119826566",
         "40.152488708496094",
         "410.9200134277344"
        ],
        [
         "5",
         "NVIDIA",
         "21.734073852724478",
         "466268049.15254235",
         "0.4831436276435852",
         "116.66000366210938"
        ]
       ],
       "shape": {
        "columns": 5,
        "rows": 6
       }
      },
      "text/html": [
       "<div>\n",
       "<style scoped>\n",
       "    .dataframe tbody tr th:only-of-type {\n",
       "        vertical-align: middle;\n",
       "    }\n",
       "\n",
       "    .dataframe tbody tr th {\n",
       "        vertical-align: top;\n",
       "    }\n",
       "\n",
       "    .dataframe thead th {\n",
       "        text-align: right;\n",
       "    }\n",
       "</style>\n",
       "<table border=\"1\" class=\"dataframe\">\n",
       "  <thead>\n",
       "    <tr style=\"text-align: right;\">\n",
       "      <th></th>\n",
       "      <th>Company</th>\n",
       "      <th>Avg_Close</th>\n",
       "      <th>Avg_Volume</th>\n",
       "      <th>Start_Price</th>\n",
       "      <th>End_Price</th>\n",
       "    </tr>\n",
       "  </thead>\n",
       "  <tbody>\n",
       "    <tr>\n",
       "      <th>0</th>\n",
       "      <td>Amazon</td>\n",
       "      <td>102.286240</td>\n",
       "      <td>7.578681e+07</td>\n",
       "      <td>15.426000</td>\n",
       "      <td>237.419998</td>\n",
       "    </tr>\n",
       "    <tr>\n",
       "      <th>1</th>\n",
       "      <td>Apple</td>\n",
       "      <td>95.442205</td>\n",
       "      <td>1.166194e+08</td>\n",
       "      <td>24.347174</td>\n",
       "      <td>228.009995</td>\n",
       "    </tr>\n",
       "    <tr>\n",
       "      <th>2</th>\n",
       "      <td>Google</td>\n",
       "      <td>83.372676</td>\n",
       "      <td>3.509152e+07</td>\n",
       "      <td>26.381865</td>\n",
       "      <td>201.229996</td>\n",
       "    </tr>\n",
       "    <tr>\n",
       "      <th>3</th>\n",
       "      <td>Meta Platforms</td>\n",
       "      <td>224.919994</td>\n",
       "      <td>2.282444e+07</td>\n",
       "      <td>78.151466</td>\n",
       "      <td>697.460022</td>\n",
       "    </tr>\n",
       "    <tr>\n",
       "      <th>4</th>\n",
       "      <td>Microsoft</td>\n",
       "      <td>184.040083</td>\n",
       "      <td>2.883271e+07</td>\n",
       "      <td>40.152489</td>\n",
       "      <td>410.920013</td>\n",
       "    </tr>\n",
       "    <tr>\n",
       "      <th>5</th>\n",
       "      <td>NVIDIA</td>\n",
       "      <td>21.734074</td>\n",
       "      <td>4.662680e+08</td>\n",
       "      <td>0.483144</td>\n",
       "      <td>116.660004</td>\n",
       "    </tr>\n",
       "  </tbody>\n",
       "</table>\n",
       "</div>"
      ],
      "text/plain": [
       "          Company   Avg_Close    Avg_Volume  Start_Price   End_Price\n",
       "0          Amazon  102.286240  7.578681e+07    15.426000  237.419998\n",
       "1           Apple   95.442205  1.166194e+08    24.347174  228.009995\n",
       "2          Google   83.372676  3.509152e+07    26.381865  201.229996\n",
       "3  Meta Platforms  224.919994  2.282444e+07    78.151466  697.460022\n",
       "4       Microsoft  184.040083  2.883271e+07    40.152489  410.920013\n",
       "5          NVIDIA   21.734074  4.662680e+08     0.483144  116.660004"
      ]
     },
     "execution_count": 43,
     "metadata": {},
     "output_type": "execute_result"
    }
   ],
   "source": [
    "# Grouping by Company to compute key metrics\n",
    "# and creating a new DataFrame for descriptive statistics\n",
    "desc_stats = df.groupby('Company').agg(\n",
    "    Avg_Close=('Close', 'mean'),\n",
    "    Avg_Volume=('Volume', 'mean'),\n",
    "    Start_Price=('Close', 'first'),\n",
    "    End_Price=('Close', 'last')\n",
    ").reset_index()\n",
    "\n",
    "\n",
    "desc_stats"
   ]
  },
  {
   "cell_type": "code",
   "execution_count": 44,
   "metadata": {},
   "outputs": [],
   "source": [
    "# Calculating the percentage change for each company\n",
    "desc_stats['Cumulative_Return'] = ((desc_stats['End_Price'] - desc_stats['Start_Price']) / desc_stats['Start_Price']) * 100"
   ]
  },
  {
   "cell_type": "markdown",
   "metadata": {},
   "source": [
    "-   Cumulative return is a measure of the total percentage gain or loss an investment has experienced over a specific period. It shows how much an investment has grown (or declined) since the starting point, without considering the time factor."
   ]
  },
  {
   "cell_type": "markdown",
   "metadata": {},
   "source": [
    "## Average Closing\n",
    "-   Comparison of the average closing prices for six major technology companies:"
   ]
  },
  {
   "cell_type": "code",
   "execution_count": 40,
   "metadata": {},
   "outputs": [
    {
     "data": {
      "image/png": "[encoded data removed]",
      "text/plain": [
       "<Figure size 600x300 with 1 Axes>"
      ]
     },
     "metadata": {},
     "output_type": "display_data"
    }
   ],
   "source": [
    "\n",
    "avg_close = desc_stats.sort_values(by='Avg_Close', ascending=False).copy()\n",
    "\n",
    "plt.figure(figsize=(6, 3))\n",
    "\n",
    "sns.barplot(data=avg_close,\n",
    "            x='Avg_Close',\n",
    "            y='Company',\n",
    "            palette='crest_r',\n",
    "           )\n",
    "\n",
    "\n",
    "def curruncy_formatter(x, pos):\n",
    "    if x >= 1e6:\n",
    "        return f\"${x / 1e6:.0f}M\"\n",
    "    else:\n",
    "        return f\"${x:.0f}\"\n",
    "    \n",
    "# Format x-axis tick labels\n",
    "plt.gca().xaxis.set_major_formatter(FuncFormatter(curruncy_formatter))\n",
    "\n",
    "plt.title('Average Close Price by Company', pad=10)\n",
    "\n",
    "sns.despine()\n",
    "plt.tight_layout()\n",
    "plt.show()"
   ]
  },
  {
   "cell_type": "markdown",
   "metadata": {},
   "source": [
    "### **Key Insights**\n",
    "1. **Meta Platforms leads** with the highest average closing price, surpassing $250.\n",
    "2. **Microsoft follows closely**, with its average closing price slightly above $200.\n",
    "3. **Amazon sits in the mid-range**, around $150.\n",
    "4. **Apple is just below Amazon**, with an average closing price near $125.\n",
    "5. **Google's price is approximately $100**, placing it in the lower half of the group.\n",
    "6. **NVIDIA has the lowest average closing price**, slightly above $50.\n",
    "\n",
    "### **What This Tells Us**\n",
    "- **Market Value & Investor Confidence**: Higher average closing prices suggest strong investor confidence and market dominance.\n",
    "- **Meta & Microsoft Stand Out**: Their prices indicate that they hold a strong position in the tech industry, possibly due to successful product lines or strong revenue streams.\n",
    "- **Amazon, Apple & Google**: These three show healthy stock values but trail behind the top two, reflecting their competitive yet fluctuating market presence.\n",
    "- **NVIDIA's Position**: While its stock has the lowest closing price among these companies, NVIDIA remains a powerhouse in the semiconductor industry and could show future growth.\n"
   ]
  },
  {
   "cell_type": "markdown",
   "metadata": {},
   "source": [
    "## Average Volume"
   ]
  },
  {
   "cell_type": "code",
   "execution_count": 41,
   "metadata": {},
   "outputs": [
    {
     "data": {
      "image/png": "[encoded data removed]",
      "text/plain": [
       "<Figure size 600x300 with 1 Axes>"
      ]
     },
     "metadata": {},
     "output_type": "display_data"
    }
   ],
   "source": [
    "\n",
    "avg_volume = desc_stats.sort_values(by='Avg_Volume', ascending=False).copy()\n",
    "\n",
    "plt.figure(figsize=(6, 3))\n",
    "sns.barplot(data=avg_volume,\n",
    "            x='Avg_Volume',\n",
    "            y='Company',\n",
    "            palette='crest_r',\n",
    "           )\n",
    "def curruncy_formatter(x, pos):\n",
    "    if x >= 1e6:\n",
    "        return f\"${x / 1e6:.0f}M\"\n",
    "    else:\n",
    "        return f\"${x:.0f}\"\n",
    "    \n",
    "# Format x-axis tick labels\n",
    "plt.gca().xaxis.set_major_formatter(FuncFormatter(curruncy_formatter))\n",
    "\n",
    "  \n",
    "plt.title('Average Trading Volume by Company', pad=10)\n",
    "\n",
    "sns.despine()\n",
    "plt.tight_layout()\n",
    "plt.show() "
   ]
  },
  {
   "cell_type": "markdown",
   "metadata": {},
   "source": [
    "### **Key Insights:**\n",
    "1. **NVIDIA leads in trading volume** with the highest average, exceeding $350M.\n",
    "2. **Apple follows next**, showing strong trading activity around $300M.\n",
    "3. **Amazon has significant volume**, slightly below Apple at approximately $250M.\n",
    "4. **Google's trading volume** is positioned near $200M.\n",
    "5. **Microsoft maintains steady trading**, averaging about $150M.\n",
    "6. **Meta Platforms records the lowest trading volume**, below $100M.\n",
    "\n",
    "### **What This Tells Us**\n",
    "- **Investor Interest**: High trading volume indicates increased investor activity. NVIDIA and Apple are highly traded, possibly reflecting strong market confidence.\n",
    "- **Amazon & Google See Consistent Action**: Their trading volume suggests active participation but at a slightly lower level compared to the leaders.\n",
    "- **Microsoft & Meta Trade Less Frequently**: Lower trading volumes could indicate either less investor interest or fewer large transactions.\n",
    "\n"
   ]
  },
  {
   "cell_type": "markdown",
   "metadata": {},
   "source": [
    "##  Cumulative Return"
   ]
  },
  {
   "cell_type": "code",
   "execution_count": 42,
   "metadata": {},
   "outputs": [
    {
     "data": {
      "image/png": "[encoded data removed]",
      "text/plain": [
       "<Figure size 600x300 with 1 Axes>"
      ]
     },
     "metadata": {},
     "output_type": "display_data"
    }
   ],
   "source": [
    "\n",
    "cumulative_return = desc_stats.sort_values(by='Cumulative_Return', ascending=False).copy()\n",
    "\n",
    "plt.figure(figsize=(6, 3))\n",
    "sns.barplot(data=cumulative_return,\n",
    "            x='Cumulative_Return',\n",
    "            y='Company',\n",
    "            palette='crest_r',\n",
    "           )\n",
    "\n",
    "def perc_formatter(x, pos):\n",
    "    if x >= 1e6:\n",
    "        return f\"${x / 1e3:.0f}K\"\n",
    "    else:\n",
    "        return f\"{x:.0f}%\"\n",
    "    \n",
    "# Format x-axis tick labels\n",
    "plt.gca().xaxis.set_major_formatter(FuncFormatter(perc_formatter))\n",
    "plt.title('Average Trading Volume by Company', pad=10)\n",
    "\n",
    "sns.despine()\n",
    "plt.tight_layout()\n",
    "plt.show() "
   ]
  },
  {
   "cell_type": "markdown",
   "metadata": {},
   "source": [
    "### **Key Insights:**\n",
    "1. **NVIDIA dominates cumulative returns** with a staggering percentage exceeding 250,000%.\n",
    "2. **Amazon follows**, showing impressive growth but significantly below NVIDIA.\n",
    "3. **Microsoft maintains strong returns**, placing third in the ranking.\n",
    "4. **Apple and Meta Platforms display moderate cumulative returns**, but they still lag behind the top three.\n",
    "5. **Google has the lowest cumulative return** among the six companies.\n",
    "\n",
    "### **What This Tells Us**\n",
    "- **Explosive Growth**: NVIDIA's extreme cumulative return suggests that it has seen massive price appreciation over time, likely driven by its dominance in AI and semiconductor advancements.\n",
    "- **Amazon & Microsoft Hold Their Own**: These two companies have delivered strong returns, reflecting successful business strategies and market expansion.\n",
    "- **Apple, Meta & Google**: While these firms remain highly influential, their cumulative returns are comparatively lower, possibly due to different growth trajectories or industry competition.\n",
    "\n",
    "By looking at all three charts together—closing price, trading volume, and cumulative returns—it’s clear that NVIDIA has seen **extraordinary investor enthusiasm and price appreciation**. However, **Meta has the highest closing price but much lower cumulative returns**, suggesting it has remained relatively stable over time rather than experiencing explosive growth.\n"
   ]
  },
  {
   "cell_type": "markdown",
   "metadata": {},
   "source": [
    "## Dialy Price Range Analysis"
   ]
  },
  {
   "cell_type": "code",
   "execution_count": 47,
   "metadata": {},
   "outputs": [],
   "source": [
    "# Creating a new column for Daily Range\n",
    "df['Daily_Range'] = df['High'] - df['Low']"
   ]
  },
  {
   "cell_type": "code",
   "execution_count": 56,
   "metadata": {},
   "outputs": [
    {
     "data": {
      "application/vnd.microsoft.datawrangler.viewer.v0+json": {
       "columns": [
        {
         "name": "index",
         "rawType": "int64",
         "type": "integer"
        },
        {
         "name": "Company",
         "rawType": "object",
         "type": "string"
        },
        {
         "name": "Avg_daily_range",
         "rawType": "float64",
         "type": "float"
        },
        {
         "name": "Max_daily_range",
         "rawType": "float64",
         "type": "float"
        }
       ],
       "conversionMethod": "pd.DataFrame",
       "ref": "b6773c66-04b0-4c88-977f-890e5ada0d25",
       "rows": [
        [
         "3",
         "Meta Platforms",
         "5.68309906390488",
         "38.77001953125"
        ],
        [
         "4",
         "Microsoft",
         "3.582725177640107",
         "24.326338193895083"
        ],
        [
         "0",
         "Amazon",
         "2.4225697474165795",
         "13.794998168945312"
        ],
        [
         "1",
         "Apple",
         "1.9654970219292736",
         "17.460557522177453"
        ],
        [
         "2",
         "Google",
         "1.7432818899793618",
         "10.759994506835994"
        ],
        [
         "5",
         "NVIDIA",
         "0.8362116334076777",
         "13.347944992387056"
        ]
       ],
       "shape": {
        "columns": 3,
        "rows": 6
       }
      },
      "text/html": [
       "<div>\n",
       "<style scoped>\n",
       "    .dataframe tbody tr th:only-of-type {\n",
       "        vertical-align: middle;\n",
       "    }\n",
       "\n",
       "    .dataframe tbody tr th {\n",
       "        vertical-align: top;\n",
       "    }\n",
       "\n",
       "    .dataframe thead th {\n",
       "        text-align: right;\n",
       "    }\n",
       "</style>\n",
       "<table border=\"1\" class=\"dataframe\">\n",
       "  <thead>\n",
       "    <tr style=\"text-align: right;\">\n",
       "      <th></th>\n",
       "      <th>Company</th>\n",
       "      <th>Avg_daily_range</th>\n",
       "      <th>Max_daily_range</th>\n",
       "    </tr>\n",
       "  </thead>\n",
       "  <tbody>\n",
       "    <tr>\n",
       "      <th>3</th>\n",
       "      <td>Meta Platforms</td>\n",
       "      <td>5.683099</td>\n",
       "      <td>38.770020</td>\n",
       "    </tr>\n",
       "    <tr>\n",
       "      <th>4</th>\n",
       "      <td>Microsoft</td>\n",
       "      <td>3.582725</td>\n",
       "      <td>24.326338</td>\n",
       "    </tr>\n",
       "    <tr>\n",
       "      <th>0</th>\n",
       "      <td>Amazon</td>\n",
       "      <td>2.422570</td>\n",
       "      <td>13.794998</td>\n",
       "    </tr>\n",
       "    <tr>\n",
       "      <th>1</th>\n",
       "      <td>Apple</td>\n",
       "      <td>1.965497</td>\n",
       "      <td>17.460558</td>\n",
       "    </tr>\n",
       "    <tr>\n",
       "      <th>2</th>\n",
       "      <td>Google</td>\n",
       "      <td>1.743282</td>\n",
       "      <td>10.759995</td>\n",
       "    </tr>\n",
       "    <tr>\n",
       "      <th>5</th>\n",
       "      <td>NVIDIA</td>\n",
       "      <td>0.836212</td>\n",
       "      <td>13.347945</td>\n",
       "    </tr>\n",
       "  </tbody>\n",
       "</table>\n",
       "</div>"
      ],
      "text/plain": [
       "          Company  Avg_daily_range  Max_daily_range\n",
       "3  Meta Platforms         5.683099        38.770020\n",
       "4       Microsoft         3.582725        24.326338\n",
       "0          Amazon         2.422570        13.794998\n",
       "1           Apple         1.965497        17.460558\n",
       "2          Google         1.743282        10.759995\n",
       "5          NVIDIA         0.836212        13.347945"
      ]
     },
     "execution_count": 56,
     "metadata": {},
     "output_type": "execute_result"
    }
   ],
   "source": [
    "# Creating a new DataFrame for daily range statistics\n",
    "# Grouping by Company to compute daily range statistics\n",
    "range_stats = df.groupby('Company').agg(\n",
    "    Avg_daily_range=('Daily_Range', 'mean'),\n",
    "    Max_daily_range=('Daily_Range', 'max')\n",
    ").reset_index()\n",
    "\n",
    "range_stats.sort_values(by='Avg_daily_range', ascending=False, inplace=True)\n",
    "\n",
    "range_stats"
   ]
  },
  {
   "cell_type": "code",
   "execution_count": 59,
   "metadata": {},
   "outputs": [
    {
     "data": {
      "image/png": "[encoded data removed]",
      "text/plain": [
       "<Figure size 600x300 with 1 Axes>"
      ]
     },
     "metadata": {},
     "output_type": "display_data"
    }
   ],
   "source": [
    "plt.figure(figsize=(6, 3))\n",
    "sns.barplot(data=range_stats,\n",
    "            x='Avg_daily_range',\n",
    "            y='Company',\n",
    "            palette='crest_r',\n",
    "           )\n",
    "\n",
    "def curruncy_formatter(x, pos):\n",
    "    if x >= 1e6:\n",
    "        return f\"${x / 1e6:.0f}M\"\n",
    "    else:\n",
    "        return f\"${x:.0f}\"\n",
    "    \n",
    "# Format x-axis tick labels\n",
    "plt.gca().xaxis.set_major_formatter(FuncFormatter(curruncy_formatter))\n",
    "\n",
    "  \n",
    "plt.title('Average Daily Range by Company', pad=10)\n",
    "plt.xlabel('Average Daily Range ($)', labelpad=10)\n",
    "\n",
    "sns.despine()\n",
    "plt.tight_layout()\n",
    "plt.show() \n",
    "\n",
    "\n"
   ]
  },
  {
   "cell_type": "markdown",
   "metadata": {},
   "source": [
    "### **Key Findings**\n",
    "1. **Meta Platforms has the highest daily range**, exceeding **$5**, indicating substantial price fluctuations.\n",
    "2. **Microsoft follows closely**, with an average daily range slightly above **$4**.\n",
    "3. **Amazon displays strong movement**, around **$3.50**, suggesting notable intraday price shifts.\n",
    "4. **Apple’s range is close to $3**, reflecting steady yet significant volatility.\n",
    "5. **Google’s daily range is approximately $2.50**, placing it on the lower end.\n",
    "6. **NVIDIA records the lowest daily range**, slightly above **$1**, showing the least volatility among the six.\n",
    "\n",
    "### **What This Tells Us**\n",
    "- **High Volatility Stocks (Meta, Microsoft, Amazon)**: These stocks experience more significant daily price changes, which might appeal to traders looking for short-term opportunities.\n",
    "- **Moderate Volatility (Apple, Google)**: Their price movements are less extreme but still provide trading opportunities.\n",
    "- **Lower Volatility (NVIDIA)**: With a smaller daily range, NVIDIA's stock exhibits more stability, making it potentially less risky for short-term investors.\n"
   ]
  },
  {
   "cell_type": "markdown",
   "metadata": {},
   "source": [
    "## Volatility Analysis\n",
    "-   Volatility: The Measure of Market Movement\n",
    "Volatility refers to how much and how quickly the price of a stock, asset, or market index fluctuates. It’s a key indicator of risk and uncertainty, often used by traders and investors to gauge how stable or unpredictable an investment is.\n",
    "\n",
    "\n",
    "How It's Measured\n",
    "- Standard Deviation – Calculates the average deviation from the mean price.\n",
    "- Average True Range (ATR) – Measures the average daily price range over a set period.\n",
    "\n",
    "\n"
   ]
  },
  {
   "cell_type": "code",
   "execution_count": 62,
   "metadata": {},
   "outputs": [
    {
     "data": {
      "application/vnd.microsoft.datawrangler.viewer.v0+json": {
       "columns": [
        {
         "name": "index",
         "rawType": "int64",
         "type": "integer"
        },
        {
         "name": "Company",
         "rawType": "object",
         "type": "string"
        },
        {
         "name": "Volatility",
         "rawType": "float64",
         "type": "float"
        }
       ],
       "conversionMethod": "pd.DataFrame",
       "ref": "dacab065-4bb0-47ad-8dde-f421aa740b58",
       "rows": [
        [
         "3",
         "Meta Platforms",
         "126.67646002753882"
        ],
        [
         "4",
         "Microsoft",
         "125.34681991895786"
        ],
        [
         "1",
         "Apple",
         "66.6856461801491"
        ],
        [
         "0",
         "Amazon",
         "55.17143096132531"
        ],
        [
         "2",
         "Google",
         "44.63408391884012"
        ],
        [
         "5",
         "NVIDIA",
         "33.81451573124813"
        ]
       ],
       "shape": {
        "columns": 2,
        "rows": 6
       }
      },
      "text/html": [
       "<div>\n",
       "<style scoped>\n",
       "    .dataframe tbody tr th:only-of-type {\n",
       "        vertical-align: middle;\n",
       "    }\n",
       "\n",
       "    .dataframe tbody tr th {\n",
       "        vertical-align: top;\n",
       "    }\n",
       "\n",
       "    .dataframe thead th {\n",
       "        text-align: right;\n",
       "    }\n",
       "</style>\n",
       "<table border=\"1\" class=\"dataframe\">\n",
       "  <thead>\n",
       "    <tr style=\"text-align: right;\">\n",
       "      <th></th>\n",
       "      <th>Company</th>\n",
       "      <th>Volatility</th>\n",
       "    </tr>\n",
       "  </thead>\n",
       "  <tbody>\n",
       "    <tr>\n",
       "      <th>3</th>\n",
       "      <td>Meta Platforms</td>\n",
       "      <td>126.676460</td>\n",
       "    </tr>\n",
       "    <tr>\n",
       "      <th>4</th>\n",
       "      <td>Microsoft</td>\n",
       "      <td>125.346820</td>\n",
       "    </tr>\n",
       "    <tr>\n",
       "      <th>1</th>\n",
       "      <td>Apple</td>\n",
       "      <td>66.685646</td>\n",
       "    </tr>\n",
       "    <tr>\n",
       "      <th>0</th>\n",
       "      <td>Amazon</td>\n",
       "      <td>55.171431</td>\n",
       "    </tr>\n",
       "    <tr>\n",
       "      <th>2</th>\n",
       "      <td>Google</td>\n",
       "      <td>44.634084</td>\n",
       "    </tr>\n",
       "    <tr>\n",
       "      <th>5</th>\n",
       "      <td>NVIDIA</td>\n",
       "      <td>33.814516</td>\n",
       "    </tr>\n",
       "  </tbody>\n",
       "</table>\n",
       "</div>"
      ],
      "text/plain": [
       "          Company  Volatility\n",
       "3  Meta Platforms  126.676460\n",
       "4       Microsoft  125.346820\n",
       "1           Apple   66.685646\n",
       "0          Amazon   55.171431\n",
       "2          Google   44.634084\n",
       "5          NVIDIA   33.814516"
      ]
     },
     "execution_count": 62,
     "metadata": {},
     "output_type": "execute_result"
    }
   ],
   "source": [
    "# Volatility Analysis (Standard Deviation)\n",
    "volatility = df.groupby('Company')['Close'].std().reset_index(name='Volatility')\n",
    "\n",
    "volatility.sort_values(by='Volatility', ascending=False, inplace=True)\n",
    "volatility"
   ]
  },
  {
   "cell_type": "code",
   "execution_count": null,
   "metadata": {},
   "outputs": [
    {
     "data": {
      "image/png": "[encoded data removed]",
      "text/plain": [
       "<Figure size 600x300 with 1 Axes>"
      ]
     },
     "metadata": {},
     "output_type": "display_data"
    }
   ],
   "source": [
    "plt.figure(figsize=(6, 3))\n",
    "sns.barplot(data=volatility,\n",
    "            x='Volatility',\n",
    "            y='Company',\n",
    "            palette='crest_r',\n",
    "           )\n",
    "\n",
    "\n",
    "def curruncy_formatter(x, pos):\n",
    "    if x >= 1e6:\n",
    "        return f\"${x / 1e6:.0f}M\"\n",
    "    else:\n",
    "        return f\"${x:.0f}\"\n",
    "    \n",
    "# Format x-axis tick labels\n",
    "plt.gca().xaxis.set_major_formatter(FuncFormatter(curruncy_formatter))\n",
    "\n",
    "plt.title('Volatility by Company', pad=10)\n",
    "\n",
    "sns.despine()\n",
    "plt.tight_layout()\n",
    "plt.show()"
   ]
  },
  {
   "cell_type": "markdown",
   "metadata": {},
   "source": [
    "### **Key Observations**\n",
    "1. **Meta Platforms has the highest volatility**, exceeding **$100**, indicating significant price swings.\n",
    "2. **Microsoft follows**, with volatility slightly above **$90**.\n",
    "3. **Apple shows considerable movement**, around **$80**.\n",
    "4. **Amazon has a volatility level of approximately **$70**, reflecting steady price shifts.\n",
    "5. **Google's volatility is lower**, near **$60**.\n",
    "6. **NVIDIA records the lowest volatility**, slightly above **$50**, suggesting more stability compared to the other five.\n",
    "\n",
    "### **What This Means**\n",
    "- **Higher volatility (Meta, Microsoft, Apple)**: These stocks experience frequent large price swings, which could indicate greater investor interest and short-term trading opportunities.\n",
    "- **Moderate volatility (Amazon, Google)**: These stocks see price movements but are relatively steadier than the top three.\n",
    "- **Lower volatility (NVIDIA)**: NVIDIA's price remains more stable in comparison, which could mean less short-term risk but also fewer dramatic gains.\n",
    "\n"
   ]
  },
  {
   "cell_type": "markdown",
   "metadata": {},
   "source": [
    "## Correlation Matrix"
   ]
  },
  {
   "cell_type": "code",
   "execution_count": 91,
   "metadata": {},
   "outputs": [],
   "source": [
    "# 5. Correlation Matrix\n",
    "pivot_df = df.pivot(index='Date', columns='Company', values='Close')\n",
    "correlation_matrix = pivot_df.corr()\n"
   ]
  },
  {
   "cell_type": "code",
   "execution_count": 93,
   "metadata": {},
   "outputs": [
    {
     "data": {
      "image/png": "[encoded data removed]",
      "text/plain": [
       "<Figure size 800x600 with 2 Axes>"
      ]
     },
     "metadata": {},
     "output_type": "display_data"
    }
   ],
   "source": [
    "plt.figure(figsize=(8, 6))\n",
    "sns.heatmap(correlation_matrix, \n",
    "            annot=True, \n",
    "            fmt=\".2f\", \n",
    "            cmap='coolwarm', \n",
    "            cbar=True, \n",
    "            square=True\n",
    ")\n",
    "\n",
    "\n",
    "plt.xticks(rotation=45, ha='right')\n",
    "plt.title('Correlation Matrix of Stock Prices', pad=10)\n",
    "plt.tight_layout()\n",
    "plt.show()"
   ]
  },
  {
   "cell_type": "markdown",
   "metadata": {},
   "source": [
    "\n",
    "### **Key Findings**\n",
    "1. **Strongest Correlations**:\n",
    "   - **Microsoft & Apple (0.98)**: These two stocks move closely together, likely due to their similar market behavior in the tech industry.\n",
    "   - **Google & Microsoft (0.98)**: Shows a strong relationship between their price movements.\n",
    "   - **Apple & Google (0.97)**: These two companies have a significant positive correlation, indicating they tend to rise or fall together.\n",
    "\n",
    "2. **Moderate Correlations**:\n",
    "   - **Amazon & Google (0.91)**: Their stock movements are strongly linked but slightly less than Microsoft & Apple.\n",
    "   - **Meta Platforms & Google (0.89)**: Suggests that Meta's price movements are influenced by Google's performance.\n",
    "   - **Meta & NVIDIA (0.91)**: Indicates some alignment, likely due to AI and tech sector trends.\n",
    "\n",
    "3. **Lowest Correlation**:\n",
    "   - **Amazon & NVIDIA (0.71)**: While still positively correlated, their prices don’t move as closely together compared to the others.\n",
    "   - **Meta & Apple (0.83)**: A weaker relationship than the others, indicating Meta’s stock may move independently from Apple’s trends.\n",
    "\n",
    "### **What This Means**\n",
    "- **Highly correlated stocks move in similar directions**, making them ideal for investors who want diversified tech exposure.\n",
    "- **Lower correlations suggest independent price movements**, which might be beneficial for risk management in a portfolio.\n",
    "- **NVIDIA has the most independent movement**, likely due to its strong presence in the semiconductor industry rather than cloud computing and consumer tech.\n"
   ]
  },
  {
   "cell_type": "markdown",
   "metadata": {},
   "source": [
    "## Daily Returns Analysis"
   ]
  },
  {
   "cell_type": "code",
   "execution_count": 140,
   "metadata": {},
   "outputs": [
    {
     "data": {
      "application/vnd.microsoft.datawrangler.viewer.v0+json": {
       "columns": [
        {
         "name": "index",
         "rawType": "int64",
         "type": "integer"
        },
        {
         "name": "Date",
         "rawType": "datetime64[ns]",
         "type": "datetime"
        },
        {
         "name": "Company",
         "rawType": "object",
         "type": "string"
        },
        {
         "name": "Daily_Return",
         "rawType": "float64",
         "type": "float"
        },
        {
         "name": "Year",
         "rawType": "int32",
         "type": "integer"
        },
        {
         "name": "Month",
         "rawType": "int32",
         "type": "integer"
        },
        {
         "name": "Day",
         "rawType": "int32",
         "type": "integer"
        }
       ],
       "conversionMethod": "pd.DataFrame",
       "ref": "b9cf5a4f-0433-44ff-a0b5-d60e2712be75",
       "rows": [
        [
         "2536",
         "2015-01-05 00:00:00",
         "Apple",
         "-0.02817163680712409",
         "2015",
         "1",
         "5"
        ],
        [
         "2537",
         "2015-01-06 00:00:00",
         "Apple",
         "9.399191733994172e-05",
         "2015",
         "1",
         "6"
        ],
        [
         "2538",
         "2015-01-07 00:00:00",
         "Apple",
         "0.014022501774877849",
         "2015",
         "1",
         "7"
        ],
        [
         "2539",
         "2015-01-08 00:00:00",
         "Apple",
         "0.03842197160071592",
         "2015",
         "1",
         "8"
        ],
        [
         "2540",
         "2015-01-09 00:00:00",
         "Apple",
         "0.0010726568269749936",
         "2015",
         "1",
         "9"
        ]
       ],
       "shape": {
        "columns": 6,
        "rows": 5
       }
      },
      "text/html": [
       "<div>\n",
       "<style scoped>\n",
       "    .dataframe tbody tr th:only-of-type {\n",
       "        vertical-align: middle;\n",
       "    }\n",
       "\n",
       "    .dataframe tbody tr th {\n",
       "        vertical-align: top;\n",
       "    }\n",
       "\n",
       "    .dataframe thead th {\n",
       "        text-align: right;\n",
       "    }\n",
       "</style>\n",
       "<table border=\"1\" class=\"dataframe\">\n",
       "  <thead>\n",
       "    <tr style=\"text-align: right;\">\n",
       "      <th></th>\n",
       "      <th>Date</th>\n",
       "      <th>Company</th>\n",
       "      <th>Daily_Return</th>\n",
       "      <th>Year</th>\n",
       "      <th>Month</th>\n",
       "      <th>Day</th>\n",
       "    </tr>\n",
       "  </thead>\n",
       "  <tbody>\n",
       "    <tr>\n",
       "      <th>2536</th>\n",
       "      <td>2015-01-05</td>\n",
       "      <td>Apple</td>\n",
       "      <td>-0.028172</td>\n",
       "      <td>2015</td>\n",
       "      <td>1</td>\n",
       "      <td>5</td>\n",
       "    </tr>\n",
       "    <tr>\n",
       "      <th>2537</th>\n",
       "      <td>2015-01-06</td>\n",
       "      <td>Apple</td>\n",
       "      <td>0.000094</td>\n",
       "      <td>2015</td>\n",
       "      <td>1</td>\n",
       "      <td>6</td>\n",
       "    </tr>\n",
       "    <tr>\n",
       "      <th>2538</th>\n",
       "      <td>2015-01-07</td>\n",
       "      <td>Apple</td>\n",
       "      <td>0.014023</td>\n",
       "      <td>2015</td>\n",
       "      <td>1</td>\n",
       "      <td>7</td>\n",
       "    </tr>\n",
       "    <tr>\n",
       "      <th>2539</th>\n",
       "      <td>2015-01-08</td>\n",
       "      <td>Apple</td>\n",
       "      <td>0.038422</td>\n",
       "      <td>2015</td>\n",
       "      <td>1</td>\n",
       "      <td>8</td>\n",
       "    </tr>\n",
       "    <tr>\n",
       "      <th>2540</th>\n",
       "      <td>2015-01-09</td>\n",
       "      <td>Apple</td>\n",
       "      <td>0.001073</td>\n",
       "      <td>2015</td>\n",
       "      <td>1</td>\n",
       "      <td>9</td>\n",
       "    </tr>\n",
       "  </tbody>\n",
       "</table>\n",
       "</div>"
      ],
      "text/plain": [
       "           Date Company  Daily_Return  Year  Month  Day\n",
       "2536 2015-01-05   Apple     -0.028172  2015      1    5\n",
       "2537 2015-01-06   Apple      0.000094  2015      1    6\n",
       "2538 2015-01-07   Apple      0.014023  2015      1    7\n",
       "2539 2015-01-08   Apple      0.038422  2015      1    8\n",
       "2540 2015-01-09   Apple      0.001073  2015      1    9"
      ]
     },
     "execution_count": 140,
     "metadata": {},
     "output_type": "execute_result"
    }
   ],
   "source": [
    "# Daily Returns\n",
    "# Calculate daily returns\n",
    "returns_df = pivot_df.pct_change().reset_index()\n",
    "returns_df = returns_df.dropna()\n",
    "returns_df.columns.name = 'Company' # Set the index name to 'Date'\n",
    "# Melt the DataFrame to long format for easier plotting\n",
    "returns_df_melted = returns_df.melt(id_vars='Date', var_name='Company', value_name='Daily_Return')\n",
    "returns_df_melted['Year'] = returns_df_melted['Date'].dt.year\n",
    "returns_df_melted['Month'] = returns_df_melted['Date'].dt.month\n",
    "returns_df_melted['Day'] = returns_df_melted['Date'].dt.day\n",
    "df_Apple = returns_df_melted[returns_df_melted['Company'] == 'Apple']\n",
    "df_Amazon = returns_df_melted[returns_df_melted['Company'] == 'Amazon']\n",
    "df_Microsoft = returns_df_melted[returns_df_melted['Company'] == 'Microsoft']\n",
    "df_Tesla = returns_df_melted[returns_df_melted['Company'] == 'Tesla']\n",
    "df_Google = returns_df_melted[returns_df_melted['Company'] == 'Google']\n",
    "\n",
    "df_Apple.head()\n"
   ]
  },
  {
   "cell_type": "code",
   "execution_count": 142,
   "metadata": {},
   "outputs": [],
   "source": [
    "df_Apple = df_Apple[df_Apple['Year'].isin([2023, 2024])]"
   ]
  },
  {
   "cell_type": "code",
   "execution_count": 150,
   "metadata": {},
   "outputs": [
    {
     "data": {
      "image/png": "[encoded data removed]",
      "text/plain": [
       "<Figure size 1200x600 with 1 Axes>"
      ]
     },
     "metadata": {},
     "output_type": "display_data"
    }
   ],
   "source": [
    "plt.figure(figsize=(12, 6))\n",
    "sns.lineplot(data=df_Apple, \n",
    "             x='Month', \n",
    "             y='Daily_Return', \n",
    "             hue='Year', \n",
    "             palette='Blues'\n",
    "             )\n",
    "\n",
    "\n",
    "plt.title('Daily Returns of Stocks', pad=10)\n",
    "\n",
    "sns.despine()\n",
    "plt.tight_layout()\n",
    "plt.show()"
   ]
  },
  {
   "cell_type": "markdown",
   "metadata": {},
   "source": [
    "## Volume-Price Relationship"
   ]
  },
  {
   "cell_type": "code",
   "execution_count": 117,
   "metadata": {},
   "outputs": [
    {
     "data": {
      "image/png": "[encoded data removed]",
      "text/plain": [
       "<Figure size 600x300 with 1 Axes>"
      ]
     },
     "metadata": {},
     "output_type": "display_data"
    }
   ],
   "source": [
    "volume_price_corr = df.groupby('Company')[['Volume', 'Close']].corr().unstack().iloc[:,1]\n",
    "\n",
    "volume_price_corr = volume_price_corr.reset_index()\n",
    "volume_price_corr.columns = ['Company', 'Correlation']\n",
    "\n",
    "plt.figure(figsize=(6, 3))\n",
    "sns.barplot(data=volume_price_corr,\n",
    "            x='Correlation',\n",
    "            y='Company',\n",
    "            palette='crest_r',\n",
    "           )\n",
    "\n",
    "\n",
    "plt.ylabel('')\n",
    "\n",
    "sns.despine()\n",
    "plt.tight_layout()\n",
    "plt.show()"
   ]
  }
 ],
 "metadata": {
  "kernelspec": {
   "display_name": "data_projects",
   "language": "python",
   "name": "python3"
  },
  "language_info": {
   "codemirror_mode": {
    "name": "ipython",
    "version": 3
   },
   "file_extension": ".py",
   "mimetype": "text/x-python",
   "name": "python",
   "nbconvert_exporter": "python",
   "pygments_lexer": "ipython3",
   "version": "3.12.3"
  }
 },
 "nbformat": 4,
 "nbformat_minor": 2
}
